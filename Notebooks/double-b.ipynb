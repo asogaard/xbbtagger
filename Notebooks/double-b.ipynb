{
 "cells": [
  {
   "cell_type": "code",
   "execution_count": 147,
   "metadata": {},
   "outputs": [],
   "source": [
    "# Import(s)\n",
    "import sys\n",
    "import glob\n",
    "import h5py\n",
    "import ROOT\n",
    "import numpy as np\n",
    "import pandas as pd  \n",
    "import matplotlib.pyplot as plt \n",
    "\n",
    "from os import environ \n",
    "from pandas import read_hdf\n",
    "from pandas_ml import ConfusionMatrix"
   ]
  },
  {
   "cell_type": "code",
   "execution_count": 148,
   "metadata": {},
   "outputs": [
    {
     "name": "stdout",
     "output_type": "stream",
     "text": [
      "Grabbing first input file: input/Keras_output__D_80_64_32_32_16_8_4_2relu_adam_clipn0_binary_crossentropymytest_tensorflow__lr10_trainBS8192_nE200_s12264_2018-11-07_val10.h5\n"
     ]
    }
   ],
   "source": [
    "# Get input file\n",
    "input_files = glob.glob('input/Keras*tensorflow*11-07*.h5')\n",
    "assert len(input_files) > 0, \\\n",
    "    \"No input files found.\"\n",
    "print \"Grabbing first input file:\",\n",
    "input_file  = input_files[0]\n",
    "print input_file"
   ]
  },
  {
   "cell_type": "code",
   "execution_count": 149,
   "metadata": {},
   "outputs": [
    {
     "ename": "TypeError",
     "evalue": "Argument sequence too long",
     "output_type": "error",
     "traceback": [
      "\u001b[0;31m\u001b[0m",
      "\u001b[0;31mTypeError\u001b[0mTraceback (most recent call last)",
      "\u001b[0;32m<ipython-input-149-9b55c708baee>\u001b[0m in \u001b[0;36m<module>\u001b[0;34m()\u001b[0m\n\u001b[1;32m      2\u001b[0m \u001b[0;34m\u001b[0m\u001b[0m\n\u001b[1;32m      3\u001b[0m     \u001b[0mX\u001b[0m      \u001b[0;34m=\u001b[0m \u001b[0mf\u001b[0m\u001b[0;34m[\u001b[0m\u001b[0;34m'X'\u001b[0m\u001b[0;34m]\u001b[0m     \u001b[0;34m[\u001b[0m\u001b[0;34m:\u001b[0m\u001b[0;34m]\u001b[0m\u001b[0;34m\u001b[0m\u001b[0m\n\u001b[0;32m----> 4\u001b[0;31m     \u001b[0mY\u001b[0m      \u001b[0;34m=\u001b[0m \u001b[0mf\u001b[0m\u001b[0;34m[\u001b[0m\u001b[0;34m'Y'\u001b[0m\u001b[0;34m]\u001b[0m     \u001b[0;34m[\u001b[0m\u001b[0;34m:\u001b[0m\u001b[0;34m,\u001b[0m\u001b[0;36m1\u001b[0m\u001b[0;34m]\u001b[0m\u001b[0;34m\u001b[0m\u001b[0m\n\u001b[0m\u001b[1;32m      5\u001b[0m     \u001b[0mY_pred\u001b[0m \u001b[0;34m=\u001b[0m \u001b[0mf\u001b[0m\u001b[0;34m[\u001b[0m\u001b[0;34m'Y_pred'\u001b[0m\u001b[0;34m]\u001b[0m\u001b[0;34m[\u001b[0m\u001b[0;34m:\u001b[0m\u001b[0;34m,\u001b[0m\u001b[0;36m1\u001b[0m\u001b[0;34m]\u001b[0m\u001b[0;34m\u001b[0m\u001b[0m\n\u001b[1;32m      6\u001b[0m \u001b[0;34m\u001b[0m\u001b[0m\n",
      "\u001b[0;32mh5py/_objects.pyx\u001b[0m in \u001b[0;36mh5py._objects.with_phil.wrapper\u001b[0;34m()\u001b[0m\n",
      "\u001b[0;32mh5py/_objects.pyx\u001b[0m in \u001b[0;36mh5py._objects.with_phil.wrapper\u001b[0;34m()\u001b[0m\n",
      "\u001b[0;32m/Users/asogaard/Library/Python/2.7/lib/python/site-packages/h5py/_hl/dataset.pyc\u001b[0m in \u001b[0;36m__getitem__\u001b[0;34m(self, args)\u001b[0m\n\u001b[1;32m    474\u001b[0m \u001b[0;34m\u001b[0m\u001b[0m\n\u001b[1;32m    475\u001b[0m         \u001b[0;31m# Perform the dataspace selection.\u001b[0m\u001b[0;34m\u001b[0m\u001b[0;34m\u001b[0m\u001b[0m\n\u001b[0;32m--> 476\u001b[0;31m         \u001b[0mselection\u001b[0m \u001b[0;34m=\u001b[0m \u001b[0msel\u001b[0m\u001b[0;34m.\u001b[0m\u001b[0mselect\u001b[0m\u001b[0;34m(\u001b[0m\u001b[0mself\u001b[0m\u001b[0;34m.\u001b[0m\u001b[0mshape\u001b[0m\u001b[0;34m,\u001b[0m \u001b[0margs\u001b[0m\u001b[0;34m,\u001b[0m \u001b[0mdsid\u001b[0m\u001b[0;34m=\u001b[0m\u001b[0mself\u001b[0m\u001b[0;34m.\u001b[0m\u001b[0mid\u001b[0m\u001b[0;34m)\u001b[0m\u001b[0;34m\u001b[0m\u001b[0m\n\u001b[0m\u001b[1;32m    477\u001b[0m \u001b[0;34m\u001b[0m\u001b[0m\n\u001b[1;32m    478\u001b[0m         \u001b[0;32mif\u001b[0m \u001b[0mselection\u001b[0m\u001b[0;34m.\u001b[0m\u001b[0mnselect\u001b[0m \u001b[0;34m==\u001b[0m \u001b[0;36m0\u001b[0m\u001b[0;34m:\u001b[0m\u001b[0;34m\u001b[0m\u001b[0m\n",
      "\u001b[0;32m/Users/asogaard/Library/Python/2.7/lib/python/site-packages/h5py/_hl/selections.pyc\u001b[0m in \u001b[0;36mselect\u001b[0;34m(shape, args, dsid)\u001b[0m\n\u001b[1;32m     92\u001b[0m \u001b[0;34m\u001b[0m\u001b[0m\n\u001b[1;32m     93\u001b[0m     \u001b[0msel\u001b[0m \u001b[0;34m=\u001b[0m \u001b[0mSimpleSelection\u001b[0m\u001b[0;34m(\u001b[0m\u001b[0mshape\u001b[0m\u001b[0;34m)\u001b[0m\u001b[0;34m\u001b[0m\u001b[0m\n\u001b[0;32m---> 94\u001b[0;31m     \u001b[0msel\u001b[0m\u001b[0;34m[\u001b[0m\u001b[0margs\u001b[0m\u001b[0;34m]\u001b[0m\u001b[0;34m\u001b[0m\u001b[0m\n\u001b[0m\u001b[1;32m     95\u001b[0m     \u001b[0;32mreturn\u001b[0m \u001b[0msel\u001b[0m\u001b[0;34m\u001b[0m\u001b[0m\n\u001b[1;32m     96\u001b[0m \u001b[0;34m\u001b[0m\u001b[0m\n",
      "\u001b[0;32m/Users/asogaard/Library/Python/2.7/lib/python/site-packages/h5py/_hl/selections.pyc\u001b[0m in \u001b[0;36m__getitem__\u001b[0;34m(self, args)\u001b[0m\n\u001b[1;32m    259\u001b[0m             \u001b[0;32mreturn\u001b[0m \u001b[0mself\u001b[0m\u001b[0;34m\u001b[0m\u001b[0m\n\u001b[1;32m    260\u001b[0m \u001b[0;34m\u001b[0m\u001b[0m\n\u001b[0;32m--> 261\u001b[0;31m         \u001b[0mstart\u001b[0m\u001b[0;34m,\u001b[0m \u001b[0mcount\u001b[0m\u001b[0;34m,\u001b[0m \u001b[0mstep\u001b[0m\u001b[0;34m,\u001b[0m \u001b[0mscalar\u001b[0m \u001b[0;34m=\u001b[0m \u001b[0m_handle_simple\u001b[0m\u001b[0;34m(\u001b[0m\u001b[0mself\u001b[0m\u001b[0;34m.\u001b[0m\u001b[0mshape\u001b[0m\u001b[0;34m,\u001b[0m\u001b[0margs\u001b[0m\u001b[0;34m)\u001b[0m\u001b[0;34m\u001b[0m\u001b[0m\n\u001b[0m\u001b[1;32m    262\u001b[0m \u001b[0;34m\u001b[0m\u001b[0m\n\u001b[1;32m    263\u001b[0m         \u001b[0mself\u001b[0m\u001b[0;34m.\u001b[0m\u001b[0m_id\u001b[0m\u001b[0;34m.\u001b[0m\u001b[0mselect_hyperslab\u001b[0m\u001b[0;34m(\u001b[0m\u001b[0mstart\u001b[0m\u001b[0;34m,\u001b[0m \u001b[0mcount\u001b[0m\u001b[0;34m,\u001b[0m \u001b[0mstep\u001b[0m\u001b[0;34m)\u001b[0m\u001b[0;34m\u001b[0m\u001b[0m\n",
      "\u001b[0;32m/Users/asogaard/Library/Python/2.7/lib/python/site-packages/h5py/_hl/selections.pyc\u001b[0m in \u001b[0;36m_handle_simple\u001b[0;34m(shape, args)\u001b[0m\n\u001b[1;32m    436\u001b[0m         \u001b[0mselected\u001b[0m\u001b[0;34m.\u001b[0m\u001b[0;34m\u001b[0m\u001b[0m\n\u001b[1;32m    437\u001b[0m     \"\"\"\n\u001b[0;32m--> 438\u001b[0;31m     \u001b[0margs\u001b[0m \u001b[0;34m=\u001b[0m \u001b[0m_expand_ellipsis\u001b[0m\u001b[0;34m(\u001b[0m\u001b[0margs\u001b[0m\u001b[0;34m,\u001b[0m \u001b[0mlen\u001b[0m\u001b[0;34m(\u001b[0m\u001b[0mshape\u001b[0m\u001b[0;34m)\u001b[0m\u001b[0;34m)\u001b[0m\u001b[0;34m\u001b[0m\u001b[0m\n\u001b[0m\u001b[1;32m    439\u001b[0m \u001b[0;34m\u001b[0m\u001b[0m\n\u001b[1;32m    440\u001b[0m     \u001b[0mstart\u001b[0m \u001b[0;34m=\u001b[0m \u001b[0;34m[\u001b[0m\u001b[0;34m]\u001b[0m\u001b[0;34m\u001b[0m\u001b[0m\n",
      "\u001b[0;32m/Users/asogaard/Library/Python/2.7/lib/python/site-packages/h5py/_hl/selections.pyc\u001b[0m in \u001b[0;36m_expand_ellipsis\u001b[0;34m(args, rank)\u001b[0m\n\u001b[1;32m    423\u001b[0m \u001b[0;34m\u001b[0m\u001b[0m\n\u001b[1;32m    424\u001b[0m     \u001b[0;32mif\u001b[0m \u001b[0mlen\u001b[0m\u001b[0;34m(\u001b[0m\u001b[0mfinal_args\u001b[0m\u001b[0;34m)\u001b[0m \u001b[0;34m>\u001b[0m \u001b[0mrank\u001b[0m\u001b[0;34m:\u001b[0m\u001b[0;34m\u001b[0m\u001b[0m\n\u001b[0;32m--> 425\u001b[0;31m         \u001b[0;32mraise\u001b[0m \u001b[0mTypeError\u001b[0m\u001b[0;34m(\u001b[0m\u001b[0;34m\"Argument sequence too long\"\u001b[0m\u001b[0;34m)\u001b[0m\u001b[0;34m\u001b[0m\u001b[0m\n\u001b[0m\u001b[1;32m    426\u001b[0m \u001b[0;34m\u001b[0m\u001b[0m\n\u001b[1;32m    427\u001b[0m     \u001b[0;32mreturn\u001b[0m \u001b[0mfinal_args\u001b[0m\u001b[0;34m\u001b[0m\u001b[0m\n",
      "\u001b[0;31mTypeError\u001b[0m: Argument sequence too long"
     ]
    }
   ],
   "source": [
    "with h5py.File(input_file, 'r') as f:\n",
    "\n",
    "    X      = f['X']     [:]\n",
    "    Y      = f['Y']     [:]\n",
    "    Y_pred = f['Y_pred'][:]\n",
    "    \n",
    "    print \"X     .shape:\", X     .shape\n",
    "    print \"Y     .shape:\", Y     .shape\n",
    "    print \"Y_pred.shape:\", Y_pred.shape\n",
    "    \n",
    "    mv2c_Lead    = f['baseline_tagger'][:,0]\n",
    "    mv2c_SubLead = f['baseline_tagger'][:,1]\n",
    "\n",
    "    jet_pt   = f['jet_pt']  [:] / 1000.\n",
    "    jet_mass = f['jet_mass'][:] / 1000.\n",
    "    jet_eta  = f['jet_eta'] [:]\n",
    "    \n",
    "    W_train  = f['W_train'] [:]\n",
    "    W_test   = f['W_test']  [:]\n",
    "    classes  = f['class']   [:]\n",
    "    \n",
    "    print \"classes .shape:\", classes.shape\n",
    "    pass"
   ]
  },
  {
   "cell_type": "code",
   "execution_count": 141,
   "metadata": {},
   "outputs": [
    {
     "name": "stdout",
     "output_type": "stream",
     "text": [
      "Weight: Min / 0.1% / Mean / 99.9% / Max: 2.71183179597e-15 / 3.2998311155e-10 / 0.592104766373 / 25.6492269619 / 2039.10380335\n"
     ]
    }
   ],
   "source": [
    "df0 = pd.DataFrame({\"weight\":  W_train,   # W_test\n",
    "                    \"Y_pred\":  Y_pred.ravel(),\n",
    "                    \"Y\":       Y.ravel(), \n",
    "                    \"classes\": classes.ravel(),\n",
    "                    \"mv2c_Lead\":    mv2c_Lead.ravel(),\n",
    "                    \"mv2c_SubLead\": mv2c_SubLead.ravel(), \n",
    "                    \"jet_pt\":       jet_pt.ravel(),\n",
    "                    \"jet_mass\":     jet_mass.ravel(),\n",
    "                    \"jet_eta\":      jet_eta.ravel(),\n",
    "                   })\n",
    "\n",
    "# Filter outliers\n",
    "print \"Weight: Min / 0.1% / Mean / 99.9% / Max: {} / {} / {} / {} / {}\".format(\n",
    "    df0['weight'].min(),\n",
    "    np.percentile(df0['weight'],  0.1),\n",
    "    df0['weight'].mean(),\n",
    "    np.percentile(df0['weight'], 99.9),\n",
    "    df0['weight'].max(),\n",
    ")\n",
    "df0['outlier'] = df0['weight'] > 100.\n",
    "\n",
    "# Add single- and double-b-taggin info\n",
    "df0['single_b_mv2c'] = df0[['mv2c_Lead', 'mv2c_SubLead']].max(axis=1)\n",
    "df0['double_b_mv2c'] = df0[['mv2c_Lead', 'mv2c_SubLead']].min(axis=1)"
   ]
  },
  {
   "cell_type": "code",
   "execution_count": 142,
   "metadata": {},
   "outputs": [
    {
     "data": {
      "text/plain": [
       "(0.4963369, 0.4963369)"
      ]
     },
     "execution_count": 142,
     "metadata": {},
     "output_type": "execute_result"
    }
   ],
   "source": [
    "Y_pred[Y==0].mean(), Y_pred[Y==1].mean()"
   ]
  },
  {
   "cell_type": "code",
   "execution_count": 143,
   "metadata": {},
   "outputs": [
    {
     "name": "stdout",
     "output_type": "stream",
     "text": [
      "[[ 2.70713825e+06  1.59593538e+06 -2.39459872e-01]\n",
      " [ 2.63194075e+06  2.60246850e+06 -1.69657528e-01]\n",
      " [ 2.72568400e+06  2.52251575e+06 -5.76245449e-02]\n",
      " [ 2.73624325e+06  2.66335775e+06 -2.01035574e-01]\n",
      " [ 2.90225450e+06  2.52017275e+06 -4.27242182e-02]]\n",
      "[2.90675552e-13 5.64721522e-13 0.00000000e+00 1.57874461e-12\n",
      " 0.00000000e+00]\n"
     ]
    }
   ],
   "source": [
    "msk_bkg = df0['Y'] == 0\n",
    "print X     [msk_bkg][:5,:3]\n",
    "print W_test[msk_bkg][:5]"
   ]
  },
  {
   "cell_type": "code",
   "execution_count": 144,
   "metadata": {},
   "outputs": [
    {
     "name": "stdout",
     "output_type": "stream",
     "text": [
      "SIGNAL\n",
      "103053  250.46  762.80 2793.77\n",
      "103053   -2.00    0.00    2.00\n",
      "\n",
      "BACKGROUND\n",
      "251695  250.01 1289.86 2999.94\n",
      "251695   -2.00   -0.00    2.00\n",
      "\n",
      "weightHist: 0.0 0.3860256676968623 2.1403061224489797\n",
      "num_w: 0.0006221879842855703 1.0465019212599036 2039.103803348483\n",
      "denom_w: 2.7118317959669098e-15 0.40605820206885695 1773.6014258407106\n"
     ]
    },
    {
     "name": "stderr",
     "output_type": "stream",
     "text": [
      "/Users/asogaard/Library/Python/2.7/lib/python/site-packages/ipykernel_launcher.py:28: RuntimeWarning: invalid value encountered in divide\n"
     ]
    },
    {
     "name": "stdout",
     "output_type": "stream",
     "text": [
      "[(0.0004916420845624386, 1.1513196322364586e-08), (0.03353658536585366, 1.2967183754689719e-09), (0.0, 4.3935754074609334e-08), (0.8054945054945055, 3.3863927763332786e-13), (0.0010660980810234541, 5.318660750250916e-08)]\n"
     ]
    },
    {
     "data": {
      "image/png": "[encoded data removed]",
      "text/plain": [
       "<Figure size 432x288 with 4 Axes>"
      ]
     },
     "metadata": {},
     "output_type": "display_data"
    }
   ],
   "source": [
    "msk_sig = df0['Y'] == 1\n",
    "\n",
    "num_pt    = df0.loc[ msk_sig, 'jet_pt']\n",
    "num_eta   = df0.loc[ msk_sig, 'jet_eta']\n",
    "denom_pt  = df0.loc[~msk_sig, 'jet_pt']\n",
    "denom_eta = df0.loc[~msk_sig, 'jet_eta']\n",
    "\n",
    "num_w   = df0.loc[ msk_sig, 'weight']\n",
    "denom_w = df0.loc[~msk_sig, 'weight']\n",
    "\n",
    "print \"SIGNAL\"\n",
    "print \"{:6d} {:7.2f} {:7.2f} {:7.2f}\".format(len(num_pt),  np.min(num_pt),  np.mean(num_pt),  np.max(num_pt))\n",
    "print \"{:6d} {:7.2f} {:7.2f} {:7.2f}\".format(len(num_eta), np.min(num_eta), np.mean(num_eta), np.max(num_eta))\n",
    "print \"\"\n",
    "print \"BACKGROUND\"\n",
    "print \"{:6d} {:7.2f} {:7.2f} {:7.2f}\".format(len(denom_pt),  np.min(denom_pt),  np.mean(denom_pt),  np.max(denom_pt))\n",
    "print \"{:6d} {:7.2f} {:7.2f} {:7.2f}\".format(len(denom_eta), np.min(denom_eta), np.mean(denom_eta), np.max(denom_eta))\n",
    "print \"\"\n",
    "\n",
    "bins_pt, bins_eta = 50, 10\n",
    "\n",
    "bins_pt  = np.linspace(num_pt.min(),  num_pt.max(),  bins_pt  + 1, endpoint=True)\n",
    "bins_eta = np.linspace(num_eta.min(), num_eta.max(), bins_eta + 1, endpoint=True)\n",
    "\n",
    "h_denom, xedges, yedges = np.histogram2d(denom_pt, denom_eta, bins=(bins_pt, bins_eta))\n",
    "h_num,   _,      _      = np.histogram2d(num_pt,   num_eta,   bins=(bins_pt, bins_eta))\n",
    "\n",
    "weightHist = np.divide(h_num, h_denom)\n",
    "print \"weightHist:\", np.nanmin(weightHist), np.nanmean(weightHist), np.nanmax(weightHist)\n",
    "print \"num_w:\", np.nanmin(num_w), np.nanmean(num_w), np.nanmax(num_w)\n",
    "print \"denom_w:\", np.nanmin(denom_w), np.nanmean(denom_w), np.nanmax(denom_w)\n",
    "\n",
    "# Compute per-jet weights\n",
    "ixs = np.clip(np.digitize(denom_pt,  xedges) - 1, 0, len(xedges) - 2)\n",
    "iys = np.clip(np.digitize(denom_eta, yedges) - 1, 0, len(yedges) - 2)\n",
    "reweights = weightHist[ixs, iys]\n",
    "\n",
    "h_rew, _, _ = np.histogram2d(denom_pt, denom_eta, bins=(bins_pt, bins_eta), weights=reweights)\n",
    "h_dew, _, _ = np.histogram2d(denom_pt, denom_eta, bins=(bins_pt, bins_eta), weights=denom_w)\n",
    "\n",
    "\n",
    "print zip(reweights, denom_w)[:5]\n",
    "\n",
    "\n",
    "fig, ax = plt.subplots(1,4)\n",
    "ax[0].imshow(h_num,   origin='sw')\n",
    "ax[1].imshow(h_denom, origin='sw')\n",
    "ax[2].imshow(h_rew,   origin='sw')\n",
    "ax[3].imshow(h_dew,   origin='sw');"
   ]
  },
  {
   "cell_type": "code",
   "execution_count": 145,
   "metadata": {
    "scrolled": false
   },
   "outputs": [
    {
     "name": "stdout",
     "output_type": "stream",
     "text": [
      "Predicted     0.0  1.0  __all__\n",
      "Actual                         \n",
      "0.0        251695    0   251695\n",
      "1.0        103053    0   103053\n",
      "__all__    354748    0   354748\n"
     ]
    },
    {
     "data": {
      "image/png": "[encoded data removed]",
      "text/plain": [
       "<Figure size 648x576 with 2 Axes>"
      ]
     },
     "metadata": {},
     "output_type": "display_data"
    }
   ],
   "source": [
    "def confusion (df):\n",
    "    \n",
    "    # Compute confusion matrix\n",
    "    confusion_matrix = ConfusionMatrix(df['Y'], df['classes'])\n",
    "\n",
    "    print (confusion_matrix)\n",
    "\n",
    "    confusion_matrix.plot()\n",
    "    plt.xlabel('Predicted Hbb (0) non Hbb(1)' )\n",
    "    plt.ylabel('Truth Hbb (0) non Hbb(1)')\n",
    "    plt.show()\n",
    "    return\n",
    "\n",
    "#msk = (df0['jet_pt'] > 400.) & (df0['jet_pt'] < 600.)\n",
    "confusion(df0)"
   ]
  },
  {
   "cell_type": "code",
   "execution_count": 146,
   "metadata": {
    "scrolled": false
   },
   "outputs": [
    {
     "data": {
      "image/png": "[encoded data removed]",
      "text/plain": [
       "<Figure size 432x288 with 1 Axes>"
      ]
     },
     "metadata": {},
     "output_type": "display_data"
    },
    {
     "data": {
      "image/png": "[encoded data removed]",
      "text/plain": [
       "<Figure size 432x288 with 1 Axes>"
      ]
     },
     "metadata": {},
     "output_type": "display_data"
    },
    {
     "data": {
      "image/png": "[encoded data removed]",
      "text/plain": [
       "<Figure size 432x288 with 1 Axes>"
      ]
     },
     "metadata": {},
     "output_type": "display_data"
    },
    {
     "data": {
      "image/png": "[encoded data removed]",
      "text/plain": [
       "<Figure size 432x288 with 1 Axes>"
      ]
     },
     "metadata": {},
     "output_type": "display_data"
    },
    {
     "data": {
      "image/png": "[encoded data removed]",
      "text/plain": [
       "<Figure size 432x432 with 2 Axes>"
      ]
     },
     "metadata": {},
     "output_type": "display_data"
    },
    {
     "data": {
      "image/png": "[encoded data removed]",
      "text/plain": [
       "<Figure size 432x432 with 2 Axes>"
      ]
     },
     "metadata": {},
     "output_type": "display_data"
    }
   ],
   "source": [
    "def plot_distribution (df, var, name=None, bins=None):\n",
    "    \n",
    "    msk_sig = (df['Y'] == 1)\n",
    "   \n",
    "    fig, ax = plt.subplots(figsize=(6,4))\n",
    "    plt.hist(df.loc[ msk_sig, var], weights=df.loc[ msk_sig, 'weight'], bins=bins, alpha=0.5, color='red',  label='Signal',     density=1.)\n",
    "    plt.hist(df.loc[~msk_sig, var], weights=df.loc[~msk_sig, 'weight'], bins=bins, alpha=0.5, color='blue', label='Background', density=1.)\n",
    "    plt.xlabel(name or var)\n",
    "    plt.ylabel('Counts')\n",
    "    plt.yscale('log')\n",
    "    plt.legend()\n",
    "    return\n",
    "\n",
    "def plot_stack (df, vars, bins=None):\n",
    "    \n",
    "    N = len(vars)\n",
    "    msk_sig = (df['Y'] == 1)\n",
    "    \n",
    "    fig, axes = plt.subplots(len(vars), figsize=(6, 3 * N), sharex=True)\n",
    "    for ix, (var, ax) in enumerate(zip(vars, axes)):\n",
    "        ax.hist(df.loc[ msk_sig, var], weights=df.loc[ msk_sig, 'weight'], bins=bins, alpha=0.5, color='red',  label='Signal',     density=1.)\n",
    "        ax.hist(df.loc[~msk_sig, var], weights=df.loc[~msk_sig, 'weight'], bins=bins, alpha=0.5, color='blue', label='Background', density=1.)\n",
    "        ax.set_ylabel('Counts')\n",
    "        ax.legend(title=var)\n",
    "        pass\n",
    "    return\n",
    "\n",
    "# Plot tagger distribution\n",
    "bins = np.linspace(0, 1, 100 + 1, endpoint=True)\n",
    "plot_distribution(df0, 'Y_pred', 'DL1 score', bins)\n",
    "plot_distribution(df0, 'jet_pt',   bins=100)\n",
    "plot_distribution(df0, 'jet_mass', bins=100)\n",
    "plot_distribution(df0, 'jet_eta',  bins=100)\n",
    "\n",
    "plot_stack(df0, ['mv2c_Lead', 'mv2c_SubLead'], bins=100)\n",
    "\n",
    "plot_stack(df0, ['single_b_mv2c', 'double_b_mv2c'], bins=100)"
   ]
  },
  {
   "cell_type": "code",
   "execution_count": 133,
   "metadata": {},
   "outputs": [
    {
     "name": "stdout",
     "output_type": "stream",
     "text": [
      "Grabbing first hist file: input/hist__D_80_64_32_32_16_8_4_2relu_adam_clipn0_binary_crossentropymytest_tensorflow__lr10_trainBS1024_nE200_s12264_2018-11-07_val10.h5\n"
     ]
    }
   ],
   "source": [
    "# Get hist file\n",
    "hist_files = glob.glob('input/hist*tensorflow*11-07*.h5')\n",
    "assert len(hist_files) > 0, \\\n",
    "    \"No hist files found.\"\n",
    "print \"Grabbing first hist file:\",\n",
    "hist_file = hist_files[0]\n",
    "print hist_file"
   ]
  },
  {
   "cell_type": "code",
   "execution_count": 134,
   "metadata": {},
   "outputs": [
    {
     "data": {
      "image/png": "[encoded data removed]",
      "text/plain": [
       "<Figure size 360x504 with 2 Axes>"
      ]
     },
     "metadata": {},
     "output_type": "display_data"
    }
   ],
   "source": [
    "# Load history from file\n",
    "history = pd.read_hdf(hist_file, key='history')\n",
    "\n",
    "# Plot loss evolution\n",
    "fig, ax = plt.subplots(2, figsize=(5,7), sharex=True)\n",
    "\n",
    "train_loss = history['loss']\n",
    "val_loss   = history['val_loss']\n",
    "train_acc  = history['acc']\n",
    "val_acc    = history['val_acc']\n",
    "\n",
    "epochs = np.arange(len(train_loss))\n",
    "\n",
    "ax[0].plot(epochs, train_loss, label='Training Loss(Dropout(0.1))')\n",
    "ax[0].plot(epochs, val_loss,   label='Validation Loss)')\n",
    "ax[0].set_ylabel(\"Loss\")\n",
    "ax[0].legend()\n",
    "\n",
    "ax[1].plot(epochs, train_acc, label='Training Accuracy(Dropout(0.1))')\n",
    "ax[1].plot(epochs, val_acc,   label='Validation Accuracy)')\n",
    "ax[1].set_xlabel('Numbers of epochs')\n",
    "ax[1].set_ylabel(\"Accuracy\")\n",
    "ax[1].legend()\n",
    "\n",
    "plt.show()"
   ]
  },
  {
   "cell_type": "code",
   "execution_count": 138,
   "metadata": {},
   "outputs": [
    {
     "name": "stdout",
     "output_type": "stream",
     "text": [
      "SIGNAL:     0.2904988090036505 0.9981275490028928 102860.03830739511\n",
      "BACKGROUND: 0.7095011909963495 0.36474688821499784 91803.87378860924\n"
     ]
    }
   ],
   "source": [
    "msk_sig = (df0['Y'] == 1)\n",
    "print \"SIGNAL:    \", ( msk_sig).mean(), df0.loc[ msk_sig, 'weight'].mean(), df0.loc[ msk_sig, 'weight'].sum()\n",
    "print \"BACKGROUND:\", (~msk_sig).mean(), df0.loc[~msk_sig, 'weight'].mean(), df0.loc[~msk_sig, 'weight'].sum()"
   ]
  },
  {
   "cell_type": "code",
   "execution_count": 86,
   "metadata": {},
   "outputs": [],
   "source": [
    "num   = df0.loc[ msk_sig, ['jet_pt', 'jet_eta', 'weight']]\n",
    "denom = df0.loc[~msk_sig, ['jet_pt', 'jet_eta', 'weight']]"
   ]
  },
  {
   "cell_type": "code",
   "execution_count": 96,
   "metadata": {},
   "outputs": [
    {
     "name": "stdout",
     "output_type": "stream",
     "text": [
      "(251985,) (251985,)\n",
      "====================\n",
      "[ 250.05003125  293.96806563  337.8861      381.80413437  425.72216875\n",
      "  469.64020312  513.5582375   557.47627188  601.39430625  645.31234063\n",
      "  689.230375    733.14840938  777.06644375  820.98447813  864.9025125\n",
      "  908.82054687  952.73858125  996.65661563 1040.57465    1084.49268438\n",
      " 1128.41071875 1172.32875313 1216.2467875  1260.16482188 1304.08285625\n",
      " 1348.00089063 1391.918925   1435.83695938 1479.75499375 1523.67302813\n",
      " 1567.5910625  1611.50909688 1655.42713125 1699.34516563 1743.2632\n",
      " 1787.18123438 1831.09926875 1875.01730313 1918.9353375  1962.85337188\n",
      " 2006.77140625 2050.68944063 2094.607475   2138.52550938 2182.44354375\n",
      " 2226.36157813 2270.2796125  2314.19764687 2358.11568125 2402.03371563\n",
      " 2445.95175   ]\n",
      "(50, 10)\n"
     ]
    },
    {
     "name": "stderr",
     "output_type": "stream",
     "text": [
      "/Users/asogaard/Library/Python/2.7/lib/python/site-packages/ipykernel_launcher.py:35: RuntimeWarning: invalid value encountered in divide\n",
      "/Users/asogaard/Library/Python/2.7/lib/python/site-packages/ipykernel_launcher.py:36: RuntimeWarning: invalid value encountered in divide\n"
     ]
    },
    {
     "data": {
      "text/plain": [
       "<matplotlib.image.AxesImage at 0x123080910>"
      ]
     },
     "execution_count": 96,
     "metadata": {},
     "output_type": "execute_result"
    },
    {
     "data": {
      "image/png": "[encoded data removed]",
      "text/plain": [
       "<Figure size 576x432 with 7 Axes>"
      ]
     },
     "metadata": {},
     "output_type": "display_data"
    }
   ],
   "source": [
    "bins_pt, bins_eta = 50, 10\n",
    "bins_pt  = np.linspace(num['jet_pt'] .min(), num['jet_pt'] .max(), bins_pt  + 1, endpoint=True)\n",
    "bins_eta = np.linspace(num['jet_eta'].min(), num['jet_eta'].max(), bins_eta + 1, endpoint=True)\n",
    "\n",
    "h_denom, xedges, yedges = np.histogram2d(denom['jet_pt'], denom['jet_eta'], bins=(bins_pt, bins_eta))\n",
    "h_num,   _,      _      = np.histogram2d(num  ['jet_pt'], num  ['jet_eta'], bins=(bins_pt, bins_eta))\n",
    "h_denom = np.clip(h_denom, 1E-05, None)\n",
    "h_ratio = h_num / h_denom\n",
    "\n",
    "h_reweight, _, _ = np.histogram2d(denom['jet_pt'], denom['jet_eta'], bins=(bins_pt, bins_eta), weights=denom['weight'])\n",
    "h_count,    _, _ = np.histogram2d(denom['jet_pt'], denom['jet_eta'], bins=(bins_pt, bins_eta))\n",
    "\n",
    "\n",
    "h_test = np.zeros(h_num.shape)\n",
    "for pt, eta in zip(num['jet_pt'], num['jet_eta']):\n",
    "    ix = np.clip(np.digitize(pt,  xedges) - 1, 0, len(xedges) - 2)\n",
    "    iy = np.clip(np.digitize(eta, yedges) - 1, 0, len(yedges) - 2)\n",
    "    h_test[ix,iy] = h_ratio[ix, iy]\n",
    "    pass\n",
    "\n",
    "ixs = np.clip(np.digitize(denom['jet_pt'],  xedges) - 1, 0, len(xedges) - 2)\n",
    "iys = np.clip(np.digitize(denom['jet_eta'], yedges) - 1, 0, len(yedges) - 2)\n",
    "\n",
    "print h_ratio[ixs, iys].shape, denom['weight'].shape\n",
    "print \"=\" * 20\n",
    "\n",
    "print xedges\n",
    "print h_reweight.shape\n",
    "\n",
    "fig, ax = plt.subplots(1, 7, figsize=(8,6))\n",
    "ax[0].imshow(h_num,                origin='sw')\n",
    "ax[1].imshow(h_denom,              origin='sw')\n",
    "ax[2].imshow(h_ratio,              origin='sw')\n",
    "ax[3].imshow(h_denom * h_ratio,    origin='sw')\n",
    "ax[4].imshow((h_denom * h_ratio - h_num)/h_num, origin='sw', vmin=-0.01, vmax=0.01, cmap='RdBu')\n",
    "ax[5].imshow(h_reweight / h_count, origin='sw')\n",
    "ax[6].imshow(h_test,               origin='sw')"
   ]
  },
  {
   "cell_type": "code",
   "execution_count": null,
   "metadata": {},
   "outputs": [],
   "source": [
    "signal     = df0[(df0['Y']==0)&(df0['jet_pt']<=2000)]\n",
    "background = df0[(df0['Y']==1)&(df0['jet_pt']<=2000)]\n",
    "\n",
    "#print(mine)\n",
    "####################   mv2c  cut\n",
    "\n",
    "mv2c_sig   = signal    [(signal['single_b_mv2']     > 0.83)]\n",
    "mv2c_bkg   = background[(background['single_b_mv2'] < 0.83)]\n",
    "mv2c_bkg_d = background[(background['double_b_mv2'] < 0.11)]\n",
    "\n",
    "mine_sig = signal[signal['classes']==0]"
   ]
  },
  {
   "cell_type": "code",
   "execution_count": null,
   "metadata": {
    "scrolled": true
   },
   "outputs": [],
   "source": [
    "print(df['weight'])\n",
    "\n",
    "import array\n",
    "import operator"
   ]
  },
  {
   "cell_type": "code",
   "execution_count": null,
   "metadata": {},
   "outputs": [],
   "source": [
    "import ROOT\n",
    "import array\n",
    "import operator\n",
    "#from iteration_utilities import groupedby\n",
    "#from operator import itemgetter\n",
    "\n",
    "def getCutValue(disc, weight,eff_target):\n",
    "        a=np.column_stack((disc, weight))\n",
    "        a=a[a[:,0].argsort()]\n",
    "        return a[np.argmin(a[:,1].cumsum() < (1-eff_target)*np.sum(weight)),0]\n",
    "def getEffCurve(scoreList, varList,weight,  label, bins, scoreCut = None, eff_target = 0.6):\n",
    "    # initialize histogra\n",
    "    histName, displayLabel = label\n",
    "\n",
    "    \n",
    "    h_base   = ROOT.TH1D(histName+\"_beforeCut\", histName+\"_beforeCut\", len(bins)-1, array.array('d', bins))\n",
    "    h_base.Sumw2()\n",
    "\n",
    "    h_select = ROOT.TH1D(histName+\"_afterCut\", histName+\"_afterCut\", len(bins)-1, array.array('d', bins)) \n",
    "    h_select.Sumw2()\n",
    "    # determine cuts\n",
    "    scoreCut = getCutValue(scoreList,weight, eff_target)\n",
    "    print (\"score Cut\", scoreCut)\n",
    "\n",
    "    # now loop over data points\n",
    "    for isampe in range(scoreList.shape[0]):\n",
    "        score = scoreList[isampe]\n",
    "        pt = varList[isampe]\n",
    "\n",
    "        h_base.Fill(pt,weight[isampe])\n",
    "        if score > scoreCut:\n",
    "            h_select.Fill(pt,weight[isampe])\n",
    "\n",
    "    # get efficiency curve\n",
    "    heff = ROOT.TEfficiency(h_select, h_base)\n",
    "    heff.SetNameTitle(histName, displayLabel)\n",
    "\n",
    "    return heff\n",
    "\n",
    "    \n",
    "def getFixEffCurve(scoreList, varList,weight, weight_bkg, LightscoreList, LightvarList, label, bins, scoreCut = None, fix_eff_target = 0.6):\n",
    "        # get pt-dependent cut in order to reach a fixed efficiency for each pT bin                                                                                                                                                                                           \n",
    "  #      print (\"varlist \", varList)\n",
    "  #      print (\"ptbins\", bins)\n",
    "    \n",
    " #if scoreCutList is None:\n",
    "        scoreCutList = []\n",
    "        print(fix_eff_target)\n",
    "        for ibin in range(len(bins)-1):\n",
    "                        ptmin = bins[ibin]\n",
    "                        ptmax = bins[ibin+1]\n",
    "                        scoreList_ptslice = scoreList[ np.logical_and(varList>=ptmin, varList<ptmax) ]\n",
    "                        weight_ptslice = weight[ np.logical_and(varList>=ptmin, varList<ptmax) ]\n",
    "                       # print(scoreList_ptslice )\n",
    "                        scoreCutList.append(getCutValue(scoreList_ptslice,weight_ptslice, fix_eff_target))\n",
    "        weight=np.array(weight)\n",
    "        weight_bkg=np.array(weight_bkg)\n",
    "        print (scoreCutList) \n",
    "       #if onlyReturnCutList:\n",
    "       #     return scoreCutList\n",
    "       # print(label)\n",
    "        histName, displayLabel = label\n",
    "\n",
    "        h_base   = ROOT.TH1D(histName+\"_beforeCut\", histName+\"_beforeCut\", len(bins)-1,array.array('d', bins))\n",
    "        h_base.Sumw2()\n",
    "        \n",
    "        h_select = ROOT.TH1D(histName+\"_afterCut\", histName+\"_afterCut\", len(bins)-1, array.array('d', bins))\n",
    "        h_select.Sumw2()\n",
    "       # print(weight_bkg)\n",
    "        for isampe in range(np.shape(LightscoreList)[0]):\n",
    "                score = LightscoreList[isampe]\n",
    "                pt = LightvarList[isampe]\n",
    "          #      print(np.shape(weight_bkg))\n",
    "          #      print(np.shape(LightvarList))\n",
    "                \n",
    "                wt_bkg=weight_bkg[isampe]\n",
    "          #      print(isampe, weight_bkg)\n",
    "                if pt < bins[0]: continue\n",
    "                if pt >= bins[-1]: continue\n",
    "\n",
    "                ptbin = np.digitize(pt, bins)-1\n",
    "                scoreCut = scoreCutList[ptbin]\n",
    "\n",
    "                h_base.Fill(pt, wt_bkg)\n",
    "                if score > scoreCut:\n",
    "                        h_select.Fill(pt,wt_bkg)\n",
    "\n",
    "        heff = ROOT.TEfficiency(h_select, h_base)\n",
    "        heff.SetNameTitle(histName, displayLabel)\n",
    "\n",
    "        return heff"
   ]
  },
  {
   "cell_type": "code",
   "execution_count": null,
   "metadata": {},
   "outputs": [],
   "source": [
    "#def getCutValue(disc, weight,eff_target):\n",
    "#       # print( disc)\n",
    "#        return np.sort(disc)[ int((1.0-eff_target)*len(disc)) ]"
   ]
  },
  {
   "cell_type": "code",
   "execution_count": null,
   "metadata": {},
   "outputs": [],
   "source": [
    "ptbins=(np.arange(8)+np.ones(8))*70+520\n",
    "#ptbins=(np.arange(10)+np.ones(10))*200\n",
    "#ptbins=ptbins+np.ones(19)*50\n",
    "print(ptbins[:])\n",
    "varList=np.array(df0['jet_pt'])\n",
    "#print(varList)\n",
    "scoreList=np.array(df0['Y0'])\n",
    "#print(scoreList)\n",
    "#print(getFixEffCurve(scoreList, varList, \"bb\", ptbins, 0.7 ))"
   ]
  },
  {
   "cell_type": "code",
   "execution_count": null,
   "metadata": {},
   "outputs": [],
   "source": [
    "def MultipleEffCurve(outputName, approachList, bins, scoreCut = None, eff_target = 0.6):\n",
    "    fout = ROOT.TFile(outputName, \"recreate\")\n",
    "    for scoreList, varList, weight,  label in approachList:\n",
    "        print(label)\n",
    "        heff = getEffCurve(scoreList, varList, weight, label, bins,  eff_target)\n",
    "        fout.WriteTObject(heff, heff.GetName(), \"Overwrite\")\n",
    "\n",
    "    fout.Close()\n"
   ]
  },
  {
   "cell_type": "code",
   "execution_count": null,
   "metadata": {},
   "outputs": [],
   "source": [
    "def getLRejCurveFixedEff(scoreList, varList,weight, weight_bkg, LightscoreList, LightvarList, label, bins, scoreCut = None, eff_target = 0.6):\n",
    "\t# initialize histogram\n",
    "\thistName, displayLabel = label\n",
    "\n",
    "\th_base   = ROOT.TH1D(histName+\"_beforeCut\", histName+\"_beforeCut\", len(bins)-1, array.array('d', bins))\n",
    "\th_base.Sumw2()\n",
    "\n",
    "\th_select = ROOT.TH1D(histName+\"_afterCut\", histName+\"_afterCut\", len(bins)-1, array.array('d', bins)) \n",
    "\th_select.Sumw2()\n",
    "\tweight=np.array(weight)\n",
    "\tweight_bkg=np.array(weight_bkg)\n",
    "\tprint(weight_bkg[1])\n",
    "    \n",
    "\t# determine cuts for bjets\n",
    "\tif scoreCut is None:\n",
    "\t\t#scoreCut = getCutValue(scoreList, weight, eff_target)\n",
    "\t\tscoreCut = getCutValue(scoreList, weight, eff_target)\n",
    "\t\tprint(scoreCut)\n",
    "   \n",
    "\t# now loop over data points of ljets\n",
    "\tfor isampe in range(np.shape(LightscoreList)[0]):\n",
    "\t\tscore = LightscoreList[isampe]\n",
    "\t\tpt = LightvarList[isampe]\n",
    "    \n",
    "\t\tprint(weight_bkg[isampe])\n",
    "\t\th_base.Fill(pt,weight_bkg[isampe])\n",
    "\t\tif score > scoreCut:\n",
    "\t\t\th_select.Fill(pt,weight_bkg[isampe])\n",
    "\n",
    "\t# get efficiency curve\n",
    "\theff = ROOT.TEfficiency(h_select, h_base)\n",
    "\theff.SetNameTitle(histName, displayLabel)\n",
    "\n",
    "\treturn heff\n",
    "#scoreList, varList, label, bins, fix_eff_target, scoreCutList=None, onlyReturnCutList=False\n",
    "def MultipleRejCurve(outputName, approachList,weight,weight_bkg, bins, scoreCut = None, eff_target = 0.6):\n",
    "\n",
    "\tfout = ROOT.TFile(outputName, \"update\")\n",
    "\n",
    "\tfor scoreList, varList, LightscoreList, LightvarList, label in approachList:\n",
    "\t\theff = getFixEffCurve(scoreList, varList,weight, weight_bkg, LightscoreList, LightvarList, label, bins)\n",
    "\t\tfout.WriteTObject(heff, heff.GetName(), \"Overwrite\")\n",
    "\n",
    "\tfout.Close()\n"
   ]
  },
  {
   "cell_type": "code",
   "execution_count": null,
   "metadata": {},
   "outputs": [],
   "source": [
    "outputName=\"eff_plot.root\"\n",
    "approachList=[]\n",
    "approachList.append((np.array(df['Y0']),np.array(df['jet_pt']),np.array(df['weight']),(\"DL training\",\"60%\")))\n",
    "approachList.append((np.array(df['double_b_mv2']),np.array(df['jet_pt']),np.array(df['weight']),(\"double_b_mv2\",\"60%\")))\n",
    "approachList.append((np.array(df['single_b_mv2']),np.array(df['jet_pt']),np.array(df['weight']),(\"single_b_mv2\",\"60%\")))\n",
    "\n",
    "MultipleEffCurve(outputName, approachList,ptbins)\n",
    "\n"
   ]
  },
  {
   "cell_type": "code",
   "execution_count": null,
   "metadata": {},
   "outputs": [],
   "source": [
    "pt_pred =pd.DataFrame({\"weight\":weight.ravel(),\"classes\":classes.ravel(),\"Y\":Y.ravel(),\"Y_pred\":Y_pred[:,0].ravel(), \"mv2c_Lead\":mv2c_Lead.ravel(),\"mv2c_SubLead\":mv2c_SubLead.ravel(), \"jet_pt\":jet_pt.ravel()})\n",
    "pt_pred['dl_score']=np.log(pt_pred['Y_pred']/(1-pt_pred['Y_pred']))\n",
    "pt_pred['single_b_mv2']=pt_pred[['mv2c_Lead', 'mv2c_SubLead']].max(axis=1)\n",
    "pt_pred['double_b_mv2']=pt_pred[['mv2c_Lead', 'mv2c_SubLead']].min(axis=1)\n",
    "\n",
    "pt_pred_h=pt_pred[(pt_pred['jet_pt']>1200)&(pt_pred['jet_pt']<2000)]\n",
    "pt_pred_m=pt_pred[(pt_pred['jet_pt']>500)&(pt_pred['jet_pt']<800)]\n",
    "pt_pred_l=pt_pred[(pt_pred['jet_pt']>300)&(pt_pred['jet_pt']<500)]\n",
    "#print(pt_pred_h)\n",
    "fig, (ax1, ax2) = plt.subplots(nrows=2)\n",
    "ax1.hist(pt_pred[pt_pred['Y']==0]['jet_pt'], 400,normed=0, weights= pt_pred[pt_pred['Y']==0]['weight'],color='r',  label='Signal Leading subjets')                                                          \n",
    "ax1.hist(pt_pred[pt_pred['Y']==1]['jet_pt'], 400,normed=0, weights= pt_pred[pt_pred['Y']==1]['weight'],color='b',   label='bkg Leading subjets')                                                          \n",
    "ax1.set_yscale('log')\n",
    "fig.show()\n",
    "\n",
    "fig, (ax1, ax2) = plt.subplots(nrows=2)\n",
    "ax1.hist(pt_pred[pt_pred['Y']==0]['mv2c_Lead'], 400,normed=0, weights= pt_pred[pt_pred['Y']==0]['weight'],color='r',  label='Signal Leading subjets')                                                          \n",
    "ax1.hist(pt_pred[pt_pred['Y']==1]['mv2c_Lead'], 400,normed=0, weights= pt_pred[pt_pred['Y']==1]['weight'],color='b',   label='bkg Leading subjets')                                                          \n",
    "\n",
    "\n",
    "ax1.legend()\n",
    "ax2.hist(pt_pred[pt_pred['Y']==0]['mv2c_SubLead'], 400,normed=0, weights= pt_pred[pt_pred['Y']==0]['weight'],color='r', label='Signal SubLeading subjets')                                                          \n",
    "ax2.hist(pt_pred[pt_pred['Y']==1]['mv2c_SubLead'], 400,normed=0, weights= pt_pred[pt_pred['Y']==1]['weight'],color='b',   label='bkg SubLeading subjets')                                                          \n",
    "\n",
    "#ax1.set_yscale('log')\n",
    "plt.xlabel('MV2C score')\n",
    "plt.legend()\n",
    "fig.savefig('mv2c_subjet.pdf')\n",
    "fig, (ax1, ax2) = plt.subplots(nrows=2)\n",
    "ax1.hist(pt_pred[pt_pred['Y']==0]['single_b_mv2'], 400,normed=0, weights= pt_pred[pt_pred['Y']==0]['weight'],color='r',  label='Signal Single-b')                                                          \n",
    "ax1.hist(pt_pred[pt_pred['Y']==1]['single_b_mv2'], 400,normed=0, weights= pt_pred[pt_pred['Y']==1]['weight'],color='b',  label='bkg Single-b')                                                          \n",
    "\n",
    "ax1.legend()\n",
    "ax2.hist(pt_pred[pt_pred['Y']==0]['double_b_mv2'], 400,normed=0, weights= pt_pred[pt_pred['Y']==0]['weight'],color='r',  label='Signal double_b')                                                          \n",
    "ax2.hist(pt_pred[pt_pred['Y']==1]['double_b_mv2'], 400,normed=0, weights= pt_pred[pt_pred['Y']==1]['weight'],color='b',  label='bkg double_b')                                                          \n",
    "\n",
    "#ax1.set_yscale('log')\n",
    "plt.xlabel('MV2C score')\n",
    "plt.legend()\n",
    "#print(np.shape(pt_pred_h[(pt_pred_h['Y']!=pt_pred_h['classes'])&(pt_pred_h['Y']!=0)]))\n",
    "#plt.hist(pt_pred['Y_pred'],200,weights= pt_pred['weight'],histtype='step')\n",
    "plt.show()\n",
    "\n",
    "fig.savefig('sig_double.pdf')"
   ]
  },
  {
   "cell_type": "code",
   "execution_count": null,
   "metadata": {},
   "outputs": [],
   "source": [
    "outputName=\"rej_plot.root\"\n",
    "approachList=[]\n",
    "print(np.shape(np.array(df['Y0'])))\n",
    "print(np.shape(np.array(df['jet_pt'])))\n",
    "approachList.append((np.array(df['Y0']),np.array(df['jet_pt']),np.array(bkg['Y0']),np.array(bkg['jet_pt']),(\"DL training\",\"60%\")))\n",
    "approachList.append((np.array(df['double_b_mv2']),np.array(df['jet_pt']),np.array(bkg['double_b_mv2']),np.array(bkg['jet_pt']),(\"double_b_mv2\",\"60%\")))\n",
    "approachList.append((np.array(df['single_b_mv2']),np.array(df['jet_pt']),np.array(bkg['single_b_mv2']),np.array(bkg['jet_pt']),(\"single_b_mv2\",\"60%\")))\n",
    "weight=df['weight']\n",
    "weight_bkg=bkg['weight']\n",
    "MultipleRejCurve(outputName, approachList, weight, weight_bkg, ptbins)\n",
    "\n"
   ]
  },
  {
   "cell_type": "code",
   "execution_count": null,
   "metadata": {},
   "outputs": [],
   "source": [
    "outputName=\"rej_plot.root\"\n",
    "approachList=[]\n",
    "\n",
    "approachList.append((np.array(df['Y0']),np.array(df['jet_pt']),np.array(bkg['Y0']),np.array(bkg['jet_pt']),(\"DL training\",\"60%\")))\n",
    "approachList.append((np.array(df['double_b_mv2']),np.array(df['jet_pt']),np.array(bkg['double_b_mv2']),np.array(bkg['jet_pt']),(\"double_b_mv2\",\"60%\")))\n",
    "approachList.append((np.array(df['single_b_mv2']),np.array(df['jet_pt']),np.array(bkg['single_b_mv2']),np.array(bkg['jet_pt']),(\"single_b_mv2\",\"60%\")))\n",
    "weight=df['weight']\n",
    "weight_bkg=bkg['weight']\n",
    "MultipleRejCurve(outputName, approachList, weight,weight_bkg, ptbins)"
   ]
  },
  {
   "cell_type": "code",
   "execution_count": null,
   "metadata": {},
   "outputs": [],
   "source": [
    "def ConvertEffToGraph(effplot, bins, doEff=True):\n",
    "    print (effplot)\n",
    "    eff = []\n",
    "    efferror = []\n",
    "    print(bins, len(bins))\n",
    "    for i in range(len(bins)-1):\n",
    "        if doEff:\n",
    "            eff.append(effplot.GetEfficiency(i+1))\n",
    "            efferror.append(effplot.GetEfficiencyErrorLow(i+1))\n",
    "        else:\n",
    "            if (effplot.GetEfficiency(i+1)==0):\n",
    "                eff.append(1)\n",
    "                efferror.append( effplot.GetEfficiencyErrorLow(i+1)/1 )\n",
    "            else:\n",
    "                eff.append(1./(effplot.GetEfficiency(i+1)))\n",
    "                efferror.append( (effplot.GetEfficiencyErrorLow(i+1)/effplot.GetEfficiency(i+1))/effplot.GetEfficiency(i+1) )\n",
    "\n",
    "\n",
    "    bins=bins+np.ones(8)*100\n",
    "    bins=bins[:-1]\n",
    "    \n",
    "    newgraph = ROOT.TGraphErrors (len(bins), array.array('d', bins), array.array('d', eff), array.array('d', [0]*len(bins)), array.array('d', efferror))\n",
    "    return newgraph\n",
    "    #for i in range(len(bins)):\n",
    "    #    newgraph.SetBinError(i+1, eff[i])\n",
    "\n",
    "def GetRelativeRej(rejplot1, rejplot2, bins):\n",
    "    rel = []\n",
    "    relerror = []\n",
    "\n",
    "    for i in range(len(bins)):\n",
    "        rel.append( rejplot1.GetEfficiency(i+1)/rejplot2.GetEfficiency(i+1) )\n",
    "        relerror.append( rel[i]*sqrt( (rejplot1.GetEfficiencyErrorLow(i+1)/rejplot1.GetEfficiency(i+1))**2 + (rejplot2.GetEfficiencyErrorLow(i+1)/rejplot2.GetEfficiency(i+1))**2 ) )\n",
    "\n",
    "    newgraph = ROOT.TGraphErrors (len(bins), array.array('d', bins), array.array('d', rel), array.array('d', [0]*len(bins)), array.array('d', relerror))\n",
    "    return newgraph"
   ]
  },
  {
   "cell_type": "code",
   "execution_count": null,
   "metadata": {},
   "outputs": [],
   "source": [
    "outputName=\"eff_plot.root\"\n",
    "file=ROOT.TFile(outputName, \"r\")\n",
    "dltree=file.Get(\"DL training\")\n",
    "dmtree=file.Get(\"double_b_mv2\")\n",
    "smtree=file.Get(\"single_b_mv2\")\n",
    "EffCurves = [dltree,dmtree,smtree]\n",
    "label = [\"DL training(60% WP)\",\"Baseline double-btagged subjets(60% WP)\",\"Baseline single-btagged subjets(60% WP)\"]\n",
    "legend = ROOT.TLegend(0.1, 0.7, 0.5, 0.9)\n",
    "legend_rel = ROOT.TLegend(0.1, 0.7, 0.5, 0.9)\n",
    "colorlist=[2,8,38]\n",
    "ROCs = []\n",
    "varname=\"eff\"\n",
    "canvas = ROOT.TCanvas(varname, varname, 800, 600)\n",
    "mg = ROOT.TMultiGraph()\n",
    "mg_rel = ROOT.TMultiGraph()\n",
    "\n",
    "for i in range(len(EffCurves)):\n",
    "\n",
    "    ROC = ConvertEffToGraph(EffCurves[i],ptbins, True)\n",
    "\n",
    "    ROC.SetLineWidth(2)\n",
    "    ROC.SetLineColor(colorlist[i])\n",
    "    ROC.SetMarkerColor(colorlist[i])\n",
    "    ROC.SetMarkerStyle(1)\n",
    "    mg.SetTitle(\"Hbb-tagging efficiency for a fixed 60% WP cut Vs Large R-jet pT;Jet Pt(GeV); Hbb-tagging efficiency\")\n",
    "\n",
    "    mg.Add(ROC)\n",
    "\n",
    "    legend.AddEntry(ROC, label[i], \"lp\")\n",
    "\n",
    "    ROCs.append(ROC)\n",
    "\n",
    "mg.Draw(\"AL*\")\n",
    "mg.GetHistogram().SetMaximum(1.)\n",
    "legend.Draw(\"same\")\n",
    "canvas.SaveAs(\"eff.pdf\")\n",
    "\n",
    "file.Close()\n",
    "canvas.Close()"
   ]
  },
  {
   "cell_type": "code",
   "execution_count": null,
   "metadata": {
    "scrolled": true
   },
   "outputs": [],
   "source": [
    "import ROOT\n",
    "outputName=\"rej_plot.root\"\n",
    "file=ROOT.TFile(outputName, \"r\")\n",
    "dltree=file.Get(\"DL training\")\n",
    "dmtree=file.Get(\"double_b_mv2\")\n",
    "smtree=file.Get(\"single_b_mv2\")\n",
    "EffCurves = [dltree,dmtree,smtree]\n",
    "label = [\"DL training(60% WP)\",\"Baseline double-btagged subjets(60% WP)\",\"Baseline single-btagged subjets(60% WP)\"]\n",
    "legend = ROOT.TLegend(0.1, 0.7, 0.5, 0.9)\n",
    "legend_rel = ROOT.TLegend(0.1, 0.7, 0.5, 0.9)\n",
    "colorlist=[2,8,38]\n",
    "\n",
    "varname=\"rej\"\n",
    "canvas = ROOT.TCanvas(varname, varname, 800, 600)\n",
    "mg = ROOT.TMultiGraph()\n",
    "mg_rel = ROOT.TMultiGraph()\n",
    "\n",
    "for i in range(len(EffCurves)):\n",
    "\n",
    "    ROC = ConvertEffToGraph(EffCurves[i],ptbins, False)\n",
    "\n",
    "    ROC.SetLineWidth(2)\n",
    "    ROC.SetLineColor(colorlist[i])\n",
    "    ROC.SetMarkerColor(colorlist[i])\n",
    "    ROC.SetMarkerStyle(1)\n",
    "    #mg.GetYaxis().SetTitle(\"Dijet Rejection\")\n",
    "    mg.Add(ROC)\n",
    "    mg.SetTitle(\"Dijets rejection at flat Hbb-tagging efficiency of 60% vs Large R-jet pT;Jet Pt(GeV); Dijets Rejection\")\n",
    "\n",
    "\n",
    "    legend.AddEntry(ROC, label[i], \"lp\")\n",
    "\n",
    "    ROCs.append(ROC)\n",
    "\n",
    "mg.Draw(\"AL*\")\n",
    "mg.GetHistogram().SetMaximum(75.)\n",
    "\n",
    "legend.Draw(\"same\")\n",
    "\n",
    "canvas.SaveAs(\"rej.pdf\")\n",
    "\n",
    "file.Close()\n",
    "canvas.Close()"
   ]
  },
  {
   "cell_type": "code",
   "execution_count": null,
   "metadata": {},
   "outputs": [],
   "source": [
    "fig, (ax1) = plt.subplots(nrows=1)\n",
    "import math\n",
    "#print(pt_pred[pt_pred['Y']==0]['Y_pred'])\n",
    "#print(pt_pred[pt_pred['Y']==1]['Y_pred'])\n",
    "#for i in range(0,2):\n",
    "  #  print(i)1\n",
    "    #ratio[i]=pt_pred[pt_pred['Y']==i]['weight'].sum()\n",
    "    #ratio[i]=1pt_pred['Y_pred']#\n",
    "pt_pred['dl_score']=pt_pred['Y_pred']#np.log(pt_pred['Y_pred']/(1-pt_pred['Y_pred']))#\n",
    "\n",
    "#print (pt_pred)\n",
    "#print (dl)\n",
    "#pt_pred['dl_score']=pt_pred['dl_score']/(pt_pred['dl_score'].max(axis=0)-pt_pred['dl_score'].min(axis=0))\n",
    "#pt_pred['dl_score']=pt_pred['Y_pred']\n",
    "ax1.hist(pt_pred[pt_pred['Y']==0]['dl_score'],100,weights=pt_pred[pt_pred['Y']==0]['weight'], label='signal Higgs bb',color='r', normed=1)\n",
    "ax1.hist(pt_pred[pt_pred['Y']==1]['dl_score'],100,weights=pt_pred[pt_pred['Y']==1]['weight'],  label='bkg non-Higgs bb',color='b', normed=1)\n",
    "#ax1.hist(pt_pred[pt_pred['Y']==0]['dl_score'],200,weights=pt_pred[pt_pred['Y']==0]['weight'], histtype='step', label='signal Higgs bb',color='r', normed=1)\n",
    "#ax1.hist(pt_pred[pt_pred['Y']==1]['dl_score'],200,weights=pt_pred[pt_pred['Y']==1]['weight'], histtype='step', label='bkg non-Higgs bb',color='b', normed=1)\n",
    "ax1.legend()\n",
    "plt.xlabel('DL1 score')\n",
    "\n",
    "\n",
    "      \n",
    "fig.savefig(\"DL_score.pdf\")\n",
    "#ax1.set_xlim(-1,1)\n",
    "#ax1.set_yscale('log')\n",
    "fig, (ax2, ax3, ax4) = plt.subplots(nrows=3)\n",
    "ax2.hist(pt_pred_h[pt_pred_h['Y']==0]['Y_pred'],200,weights= pt_pred_h[pt_pred_h['Y']==0]['weight'],label='pt:[300,500]GeV',color='r', normed=1)\n",
    "ax3.hist(pt_pred_m[pt_pred_m['Y']==0]['Y_pred'],200,weights= pt_pred_m[pt_pred_m['Y']==0]['weight'],label='pt:[500,800]GeV',color='r',normed=1)\n",
    "ax4.hist(pt_pred_l[pt_pred_l['Y']==0]['Y_pred'],200,weights= pt_pred_l[pt_pred_l['Y']==0]['weight'],label='pt:[1200,2000]GeV', color='r',normed=1)\n",
    "ax2.hist(pt_pred_h[pt_pred_h['Y']==1]['Y_pred'],200,weights= pt_pred_h[pt_pred_h['Y']==1]['weight'],label='bkg pt:[300,500]GeV',color='b', normed=1)\n",
    "ax3.hist(pt_pred_m[pt_pred_m['Y']==1]['Y_pred'],200,weights= pt_pred_m[pt_pred_m['Y']==1]['weight'],label='bkg pt:[500,800]GeV',color='b', normed=1)\n",
    "ax4.hist(pt_pred_l[pt_pred_l['Y']==1]['Y_pred'],200,weights= pt_pred_l[pt_pred_l['Y']==1]['weight'],label='bkg pt:[1200,2000]GeV',color='b', normed=1)\n",
    "#ax2.set_xlim(-1,1)\n",
    "#ax3.set_xlim(-1,1)\n",
    "#ax4.set_xlim(-1,1)\n",
    "\n",
    "ax2.legend()\n",
    "ax3.legend()\n",
    "ax4.legend()\n",
    "#plt.yscale('log')\n",
    "plt.legend()\n",
    "plt.xlabel('DL1 score')\n",
    "\n",
    "plt.show()\n",
    "\n",
    "      \n",
    "fig.savefig(\"DL_score_pt.pdf\")\n",
    "#plt.hist(Y_pred[:,0],200,histtype='step')\n",
    "plt.close\n"
   ]
  },
  {
   "cell_type": "code",
   "execution_count": null,
   "metadata": {},
   "outputs": [],
   "source": [
    "from sklearn import metrics\n",
    "#print(np.shape(mine))\n",
    "#print(np.shape(mine_bkg))\n",
    "#print(Y_pred[0,:])\n",
    "fig, ax1 = plt.subplots(nrows=1)\n",
    "\n",
    "#dl=(df0['Y0']<0.958226).astype(int)\n",
    "roc_dl=metrics.accuracy_score(Y, classes)\n",
    "\n",
    "#x=mv2c['single_b_mv2']\n",
    "#class_mv2=(df0['single_b_mv2']<cut_single).astype(int)\n",
    "#class_mv2_d=(df0['double_b_mv2']<cut_double).astype(int)\n",
    "\n",
    "\n",
    "#np.where(x>0.83)\n",
    "#print(x)\n",
    "#y=x.astype(int)\n",
    "    \n",
    "#print(y)\n",
    "#roc_mv= metrics.accuracy_score(Y,  class_mv2)\n",
    "#roc_mv_d= metrics.accuracy_score(Y, class_mv2_d)\n",
    "\n",
    "fpr, tpr, thresholds = metrics.roc_curve(df0['Y'],df0['Y0'],pos_label=0,sample_weight=df0['weight'])\n",
    "#plt.show()\n",
    "#print (tpr)\n",
    "plt.plot(fpr,tpr,'r',label='DL score: %0.2f' % roc_dl)\n",
    "\n",
    "#mv_class=((df0['double_b_mv2']>0.64))\n",
    "#mv_class=((df0['_b_mv2']>0.64))\n",
    "#print (fpr1,tpr1, thresholds)\n",
    "#print(np.shape(Y))\n",
    "fpr1, tpr1, thresholds1 = metrics.roc_curve(Y, df0['double_b_mv2'], pos_label=0,sample_weight=df0['weight'])\n",
    "\n",
    "plt.plot(fpr1,tpr1,'b', label='baseline double b-subjet')\n",
    "fpr10, tpr10, thresholds10 = metrics.roc_curve(Y,df0['single_b_mv2'], pos_label=0,sample_weight=df0['weight'])\n",
    "\n",
    "plt.plot(fpr10,tpr10,'g', label='baseline single b-subjet')\n",
    "\n",
    "#fpr3, tpr3, thresholds3 = metrics.roc_curve(Y1,Y_pred1[:,0],pos_label=0,sample_weight=weight1)\n",
    "#plt.plot(fpr3,tpr3,'y', label='DL Training(5 classes)')\n",
    "plt.legend(bbox_to_anchor=(0.9,0.3),fontsize=15)\n",
    "#plt.xlabel('Higgs bb tagging efficiency')\n",
    "#plt.ylabel('non-bb rejection')\n",
    "plt.xlabel('FPF')\n",
    "plt.title('ROC curve')\n",
    "plt.ylabel('TPF')\n",
    "plt.show() \n",
    "#print (weight)\n",
    "# Print AUC\n",
    "#auc = np.trapz(tpr,fpr)\n",
    "fig.savefig(\"ROC.pdf\")\n",
    "\n"
   ]
  },
  {
   "cell_type": "code",
   "execution_count": null,
   "metadata": {},
   "outputs": [],
   "source": [
    "#print(((pt_pred['Y']==0)&(pt_pred['classes']==0)))\n",
    "#pt_pred\n",
    "fig, ax1 = plt.subplots(nrows=1)\n",
    "\n",
    "\n",
    "#pt_pred=pt_pred[(pt_pred['jet_pt']<2000)&(pt_pred['jet_pt']>0)]\n",
    "#pt_pred1=pt_pred1[(pt_pred1['jet_pt']<2000)&(pt_pred1['jet_pt']>0)]\n",
    "sig_ind=(pt_pred['Y']==0)\n",
    "bkg_ind=(pt_pred['Y']==1)\n",
    "#sig_ind1=(pt_pred1['Y']==0)\n",
    "#bkg_ind1=(pt_pred1['Y']!=1)\n",
    "#print(pt_pred)\n",
    "#print (sig_ind, bkg_ind)\n",
    "\n",
    "\n",
    "\n",
    "sig2,_=np.histogram(pt_pred[pt_pred['Y']==0]['double_b_mv2']/2,5000)\n",
    "#weight_sig,_=np.histogram(pt_pred['weight'][sig_ind],5000)\n",
    "#print(np.shape(sig),np.shape(weight_sig))\n",
    "bkg2,_=np.histogram(pt_pred[pt_pred['Y']==1]['double_b_mv2']/2,5000)\n",
    "#weight_bkg,_=np.histogram(pt_pred['weight'][bkg_ind],5000)\n",
    "#print(sig)\n",
    "sig_eff2=np.add.accumulate(sig2[::-1])/np.sum(sig_ind)\n",
    "bkg_rej2=np.add.accumulate(bkg2[::-1])/np.sum(bkg_ind)\n",
    "\n",
    "\n",
    "sig21,_=np.histogram(pt_pred[pt_pred['Y']==0]['single_b_mv2']/2,5000)\n",
    "#weight_sig,_=np.histogram(pt_pred['weight'][sig_ind],5000)\n",
    "#print(np.shape(sig),np.shape(weight_sig))\n",
    "bkg21,_=np.histogram(pt_pred[pt_pred['Y']==1]['single_b_mv2']/2,5000)\n",
    "#weight_bkg,_=np.histogram(pt_pred['weight'][bkg_ind],5000)\n",
    "#print(sig)\n",
    "sig_eff21=np.add.accumulate(sig21[::-1])/np.sum(sig_ind)\n",
    "bkg_rej21=np.add.accumulate(bkg21[::-1])/np.sum(bkg_ind)\n",
    "#print(pt_pred1)\n",
    "#sig1,_=np.histogram(pt_pred1[pt_pred1['Y']==0]['dl_score'],5000)\n",
    "#weight_sig1,_=np.histogram(pt_pred1['weight'][sig_ind1],5000)\n",
    "#bkg1,_=np.histogram(pt_pred1[pt_pred1['Y']==1]['dl_score'],5000)\n",
    "#weight_bkg1,_=np.histogram(pt_pred1['weight'][bkg_ind1],5000)\n",
    "\n",
    "#sig_eff1=np.add.accumulate(sig1[::-1])/np.sum(sig_ind1)\n",
    "#bkg_rej1=np.add.accumulate(bkg1[::-1])/np.sum(bkg_ind1)\n",
    "\n",
    "sig,_=np.histogram(pt_pred[pt_pred['Y']==0]['Y_pred'],5000)\n",
    "#weight_sig,_=np.histogram(pt_pred['weight'][sig_ind],5000)\n",
    "bkg,_=np.histogram(pt_pred[pt_pred['Y']==1]['Y_pred'],5000)\n",
    "#weight_bkg,_=np.histogram(pt_pred['weight'][bkg_ind],5000)\n",
    "sig_eff=np.add.accumulate(sig[::-1])/np.sum(sig_ind)\n",
    "bkg_rej=np.add.accumulate(bkg[::-1])/np.sum(bkg_ind)\n",
    "\n",
    "\n",
    "#plt.hist(sig_eff,100)\n",
    "plt.plot(sig_eff, 1/bkg_rej,'r',label='DL score')\n",
    "#plt.plot(sig_eff1,1/bkg_rej1,'r',label='DL1 5classes')\n",
    "plt.plot(sig_eff21, 1/bkg_rej21,'b',label='baseline single-b score')\n",
    "plt.plot(sig_eff2, 1/bkg_rej2,'g',label='baseline double_b score')\n",
    "plt.yscale('log')\n",
    "plt.legend(fontsize=15)\n",
    "\n",
    "plt.xlabel('Higgs bb tagging efficiency')\n",
    "plt.title('The dijet rejection vs Higgs bb tagging efficiency')\n",
    "plt.ylabel('Dijet rejection,(1/$\\epsilon_{dijet}$)')\n",
    "#plt.ylim(1,1e5)\n",
    "#plt.xlim(0,1)\n",
    "plt.show()\n",
    "fig.savefig(\"ROC_ATLAS.pdf\")"
   ]
  },
  {
   "cell_type": "code",
   "execution_count": null,
   "metadata": {},
   "outputs": [],
   "source": []
  },
  {
   "cell_type": "code",
   "execution_count": null,
   "metadata": {},
   "outputs": [],
   "source": [
    "import pandas as pd  \n",
    "import matplotlib.pyplot as plt \n",
    "import numpy as np\n",
    "print  (pd.show_versions())\n",
    "#file='hist__D_80_64_32_32_16_8_4_2relu_adam_clipn0_binary_crossentropybcujets_pTmax300GeV__b_reweighting_tensorflow__lr10_trainBS256_nE100_s12264_val10.h5'\n",
    "#file='/Users/elenavillhauer/h_bbar_DL/output_lowpileup_157_559pm/hist__D_80_64_32_32_16_8_4_2__BN_relu_adam_clipn0_binary_crossentropybcujets_pTmax300GeV__b_reweighting_tensorflow__lr10_trainBS128_nE500_s12264_val10.h5'\n",
    "file='/Users/elenavillhauer/h_bbar_DL/ines_doubleb_small_sample_test/hist__D_80_64_32_32_16_8_4_2relu_adam_clipn0_binary_crossentropybcujets_pTmax300GeV__b_reweighting_tensorflow__lr10_trainBS80_nE200_s12264_2018-09-10_val10.h5'\n",
    "#/Users/elenavillhauer/h_bbar_DL/lowpileup/hist__D_80_64_32_32_16_8_4_2__BN_relu_adam_clipn0_binary_crossentropybcujets_pTmax300GeV__b_reweighting_tensorflow__lr10_trainBS64_nE100_s12264_val10.h5'\n",
    "#hist__D_80_64_32_32_16_8_4_2__BN_relu_adam_clipn0_binary_crossentropybcujets_pTmax300GeV__b_reweighting_tensorflow__lr10_trainBS512_nE100_s12264_val10.h5'\n",
    "\n",
    "fig, ax1 = plt.subplots(nrows=1)\n",
    "train_loss=pd.read_hdf(file, key='history')['loss']\n",
    "val_loss=pd.read_hdf(file, key='history')['val_loss']\n",
    "train_acc=pd.read_hdf(file, key='history')['acc']\n",
    "val_acc=pd.read_hdf(file, key='history')['val_acc']\n",
    "#print(train_loss)\n",
    "plt.plot(np.linspace(0,len(train_loss),len(train_loss)),train_loss,label='Training Loss(Dropout(0.1))')\n",
    "plt.plot(np.linspace(0,len(val_loss),len(val_loss)),val_loss,label='Validation Loss)')\n",
    "plt.legend(fontsize=15)\n",
    "plt.xlabel('Numbers of epochs')\n",
    "plt.ylabel(\"Loss\")\n",
    "\n",
    "plt.show()\n",
    "fig.savefig(\"loss.pdf\")\n",
    "fig, ax1 = plt.subplots(nrows=1)\n",
    "plt.plot(np.linspace(0,len(train_acc),len(train_acc)),train_acc,label='Training Accuracy(Dropout(0.1))')\n",
    "plt.plot(np.linspace(0,len(val_acc),len(val_acc)),val_acc,label='Validation Accuracy)')\n",
    "plt.xlabel('Numbers of epochs')\n",
    "plt.ylabel(\"Accuracy\")\n",
    "#plt.show()\n",
    "plt.ylim(0.9,.97)\n",
    "plt.legend(fontsize=15)\n",
    "plt.show()\n",
    "fig.savefig(\"acc.pdf\")\n",
    "#file.close()\n",
    "\n"
   ]
  },
  {
   "cell_type": "code",
   "execution_count": null,
   "metadata": {
    "scrolled": true
   },
   "outputs": [],
   "source": [
    "import pandas as pd   \n",
    "#import wkhtmltoimage\n",
    "import numpy as np\n",
    "pd.set_option('precision', 2)\n",
    "file='/Users/juechen/Documents/course/research/double-bplots/mc_weight.txt'\n",
    "data = pd.read_csv(file, sep=\" \",header = None)\n",
    "data.columns = [\"Filter eff\", \"cross section\", \"mcwg(averaged)\", \"DAOD events #\", \"Entries with cut(jet-based)\"]\n",
    "data['estimated weight(with averaged mcwg)']=data[\"Filter eff\"]*data[\"cross section\"]*data[\"mcwg(averaged)\"]/data[\"DAOD events #\"]\n",
    "#data=data[[\"Filter eff\", \"cross section\", \"DAOD event\", \"Entries after all cut(jet-based)\"]]\n",
    "\n",
    "data.rename({0: \"JZ0W\", 1: \"JZ1W\",2: \"JZ2W\", 3: \"JZ3W\"})\n",
    "#print(np.array(data[\"cross section\"]))\n",
    "\n",
    "data.update(data.find(1.00))\n",
    "print(data)"
   ]
  },
  {
   "cell_type": "code",
   "execution_count": null,
   "metadata": {},
   "outputs": [],
   "source": [
    "import json\n",
    "from keras.models import  model_from_json\n",
    "import tensorflow\n",
    "import os\n",
    "json_file = open('/Users/juechen/Documents/course/research/double-bplots/KerasFiles/model.json', 'r')\n",
    "loaded_model_json = json_file.read()\n",
    "json_file.close()\n",
    "loaded_model = model_from_json( loaded_model_json)\n",
    "# load weights into new model\n",
    "loaded_model.load_weights(\"/Users/juechen/Documents/course/research/double-bplots/KerasFiles/model.h5\")\n",
    "print(\"Loaded model from disk\")"
   ]
  },
  {
   "cell_type": "code",
   "execution_count": null,
   "metadata": {
    "scrolled": false
   },
   "outputs": [],
   "source": [
    "a=np.random.randint(5, size=(3,4))\n",
    "b=np.random.randint(5, size=(3,4))\n",
    "#print(a)\n",
    "print(np.where(b==0))\n",
    "\n",
    "b=np.where(b ==0, 1, b)\n",
    "print(b)\n",
    "#print(np.sum(a,axis=0))\n",
    "#print(np.count_nonzero(b,axis=0))\n",
    "mean=np.divide(np.sum(a,axis=0),np.count_nonzero(b,axis=0))\n",
    "print(mean)\n",
    "pt=np.ones(len(a))\n",
    "pt.shape=(len(a),1)\n",
    "mean.shape=(len(a[0]),1)\n",
    "mean=pt*mean.T\n",
    "\n",
    "weight=np.divide(mean,b)\n",
    "\n",
    "print(mean)\n",
    "#weight[weight == inf] = 0\n",
    "\n",
    "print(weight)"
   ]
  },
  {
   "cell_type": "code",
   "execution_count": null,
   "metadata": {},
   "outputs": [],
   "source": []
  },
  {
   "cell_type": "code",
   "execution_count": null,
   "metadata": {},
   "outputs": [],
   "source": [
    "def find_nearest1D(array,value):                                                                                                                                                                                                                           \n",
    "     #check if value is below lowest or above higest bin edge,                                                                                                                                                                                             \n",
    "     highBin = array[-1]                                                                                                                                                                                                                                   \n",
    "     lowbin = array[0]                                                                                                                                                                                                                                     \n",
    "                                                                                                                                                                                                                                                           \n",
    "     if value >= highBin:                                                                                                                                                                                                                                  \n",
    "         return str(array[-2])+'_'+str(array[-1])                                                                                                                                                                                                          \n",
    "     if value < lowbin:                                                                                                                                                                                                                                    \n",
    "         return str(array[0])+'_'+str(array[1])                                                                                                                                                                                                            \n",
    "                                                                                                                                                                                                                                                           \n",
    "     idxLow = (np.abs(array[array <= value]-value)).argmin()                                                                                                                                                                                               \n",
    "     idxHigh = (np.abs(array[array > value]-value)).argmin()                                                                                                                                                                                               \n",
    "                                                                                                                                                                                                                                                           \n",
    "     return str(array[array <= value][idxLow])+'_'+str( array[array > value][idxHigh] )                                                                                                                                                                    \n",
    "                                                                                                                                                                                                                                                           \n",
    "                                                                                                                                                                                                                                                           \n",
    "def find2dBin(xval, yval, xbins, ybins):                                                                                                                                                                                                                   \n",
    "                                                                                                                                                                                                                                                           \n",
    "     xbinning = find_nearest1D(xbins,xval)                                                                                                                                                                                                                 \n",
    "     ybinning = find_nearest1D(ybins,yval)                                                                                                                                                                                                                 \n",
    "                                                                                                                                                                                                                                                           \n",
    "     return xbinning+'_'+ybinning                                                                                                                                                                                                                          \n",
    "                                                                                                                                                                                                                                                           \n",
    "def makeBinValueDict(array,x_edges,y_edges):                                                                                                                                                                                                               \n",
    "                                                                                                                                                                                                                                                           \n",
    "     binvaldict = {}                                                                                                                                                                                                                                       \n",
    "                                                                                                                                                                                                                                                           \n",
    "     for xi in range(len(x_edges)-1):                                                                                                                                                                                                                      \n",
    "         for yi in range(len(y_edges)-1):                                                                                                                                                                                                                  \n",
    "             binname = str(x_edges[xi])+'_'+str(x_edges[xi+1])+'_'+str(y_edges[yi])+'_'+str(y_edges[yi+1])                                                                                                                                                 \n",
    "             binval = array[xi][yi]                                                                                                                                                                                                                        \n",
    "             if np.isnan(binval):                                                                                                                                                                                                                          \n",
    "                 binval = 1.0                                                                                                                                                                                                                              \n",
    "             binvaldict[binname]=binval                                                                                                                                                                                                                    \n",
    "     return binvaldict                                                                                                                                                                                                                                     \n",
    "                           "
   ]
  },
  {
   "cell_type": "code",
   "execution_count": null,
   "metadata": {},
   "outputs": [],
   "source": [
    "import numpy as np\n",
    "\n",
    "import matplotlib.pyplot as plt\n",
    "import matplotlib as mpl\n",
    "ptarray_sig = np.random.normal(0, 1, 100000)\n",
    "etaarray_sig= np.random.normal(0, 1, 100000)\n",
    "ptarray_bkg = np.random.normal(0, 2, 100000)\n",
    "etaarray_bkg= np.random.normal(0, 2, 100000)\n",
    "ptbins = np.linspace(ptarray_sig.min(),ptarray_sig.max(),50)                                                                                                                                                                                       \n",
    "etabins = np.linspace(etaarray_sig.min(),etaarray_sig.max(),2)                                                                                                                                                                                    \n",
    "#print(ptbins)         \n",
    "fig=plt.subplots(nrows=2)\n",
    "\n",
    "plt.hist(ptarray_sig,50)\n",
    "plt.show()\n",
    "\n",
    "plt.hist(etaarray_sig,50)\n",
    "plt.show()\n",
    "plt.hist(ptarray_bkg,50)\n",
    "plt.show()\n",
    "\n",
    "plt.hist(etaarray_bkg,50)\n",
    "plt.show()\n",
    "Hsig, xedges, yedges = np.histogram2d(ptarray_sig, etaarray_sig, bins=(ptbins, etabins))#, weights=weight_sig)                                                                                                                                         \n",
    "Hbkg, xedges, yedges = np.histogram2d(ptarray_bkg, etaarray_bkg, bins=(ptbins, etabins))#, weights=weight_bkg)  \n",
    "#print(xedges, yedges)\n",
    "\n",
    "#plt.show()\n",
    "a = Hsig                                                                                                                                                                                                                                               \n",
    "b= Hbkg                                                                                                                                                                                                                                                \n",
    "mean=np.divide(np.sum(a,axis=0),np.count_nonzero(b,axis=0))      \n",
    "pt=np.ones(len(a))                         \n",
    "pt.shape=(len(a),1)                        \n",
    "mean.shape=(len(a[0]),1)                   \n",
    "mean=pt*mean.T    \n",
    "b[b==0]=1\n",
    "weight=np.divide(mean,b)                                                                                                                                                                                                                               \n",
    "#from numpy import inf                                                                                                                                                                                                                                     \n",
    "#weight[weight == ] = 0                                                                                                                                                                                                                                 \n",
    "weightHist=weight      \n",
    "#print(weightHist)\n",
    "weightDict = makeBinValueDict(weightHist,xedges, yedges)     \n",
    "#print (weightDict )                                                                                                                                                                                                                                                                                                                                                                                                                                                                                                      \n",
    "weightarray = []                                                                                                                                                                                                                                         \n",
    "#loop over background array    \n",
    "#print(len(ptarray_bkg))\n",
    "for i in range(len(ptarray_bkg)):                                                                                                                                                                                                                                          \n",
    "    xval = ptarray_bkg[i]                                                                                                                                                                                                                                            \n",
    "    yval = etaarray_bkg[i]  \n",
    "    #print(xval, yval)\n",
    "    #print(weightDict[find2dBin(xval,yval,xedges,yedges)])\n",
    "    weightarray.append( weightDict[find2dBin(xval,yval,xedges,yedges)] )   \n",
    "\n",
    "\n",
    "#print (weightarray  ) "
   ]
  },
  {
   "cell_type": "code",
   "execution_count": null,
   "metadata": {},
   "outputs": [],
   "source": [
    "fig=plt.subplots(nrows=2)\n",
    "\n",
    "plt.hist(ptarray_bkg,50,weights=weightarray)\n",
    "plt.hist(ptarray_sig,50,weights=weightarray, color='r')\n",
    "plt.show()\n",
    "\n",
    "plt.hist(etaarray_bkg,50,weights=weightarray)\n",
    "plt.show()"
   ]
  },
  {
   "cell_type": "code",
   "execution_count": null,
   "metadata": {},
   "outputs": [],
   "source": [
    "import numpy as np\n",
    "eta_bins = [0., 0.5, 0.75, 1., 2]                                                                                                                                                                                  \n",
    "eta_bins = [-i for i in eta_bins]+eta_bins[1:5]  \n",
    "print(np.sort(eta_bins))\n",
    "\n",
    "pt_bins=np.concatenate([np.arange(250,1250,50),np.arange(1250,2200,750)])\n",
    "print(np.shape(pt_bins))\n",
    "print(pt_bins)\n",
    "\n",
    "a=[1,2,12]\n",
    "print(np.shape(a))\n",
    "a.shape=(3,1)"
   ]
  },
  {
   "cell_type": "code",
   "execution_count": null,
   "metadata": {},
   "outputs": [],
   "source": []
  }
 ],
 "metadata": {
  "anaconda-cloud": {},
  "kernelspec": {
   "display_name": "Python 3",
   "language": "python",
   "name": "python3"
  },
  "language_info": {
   "codemirror_mode": {
    "name": "ipython",
    "version": 2
   },
   "file_extension": ".py",
   "mimetype": "text/x-python",
   "name": "python",
   "nbconvert_exporter": "python",
   "pygments_lexer": "ipython2",
   "version": "2.7.10"
  }
 },
 "nbformat": 4,
 "nbformat_minor": 1
}
