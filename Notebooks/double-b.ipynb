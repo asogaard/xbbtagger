{
 "cells": [
  {
   "cell_type": "code",
   "execution_count": 33,
   "metadata": {},
   "outputs": [],
   "source": [
    "# Import(s)\n",
    "import re\n",
    "import sys\n",
    "import glob\n",
    "import h5py\n",
    "import ROOT\n",
    "import numpy as np\n",
    "import pandas as pd  \n",
    "import matplotlib.pyplot as plt \n",
    "\n",
    "from sklearn import metrics\n",
    "from os import environ \n",
    "from pandas import read_hdf\n",
    "from pandas_ml import ConfusionMatrix"
   ]
  },
  {
   "cell_type": "code",
   "execution_count": 46,
   "metadata": {},
   "outputs": [
    {
     "name": "stdout",
     "output_type": "stream",
     "text": [
      "(200, 3000): input/Keras_output__D_80_64_32_32_16_8_4_2relu_adam_clipn0_binary_crossentropymytest_tensorflow__lr10_trainBS8192_nE200_s12264_2018-11-07_val10.h5\n",
      "(400, 600): input/Keras_output__D_80_64_32_32_16_8_4_2relu_adam_clipn0_binary_crossentropy__pT_400_600GeVmytest_tensorflow__lr10_trainBS80_nE200_s12264_2018-11-15_val10.h5\n",
      "(200, 400): input/Keras_output__D_80_64_32_32_16_8_4_2relu_adam_clipn0_binary_crossentropy__pT_200_400GeVmytest_tensorflow__lr10_trainBS80_nE200_s12264_2018-11-15_val10.h5\n"
     ]
    }
   ],
   "source": [
    "# Get input file\n",
    "input_files = glob.glob('input/Keras*tensorflow*.h5')\n",
    "pt_bins = [re.sub(r'^.*__pT_(\\d+)_(\\d+)GeV.*$', '\\\\1 \\\\2', input_file) for input_file in input_files]\n",
    "for ix, pt_bin in enumerate(pt_bins):\n",
    "    try:\n",
    "        pt_bins[ix] = tuple(map(int,pt_bin.split()))\n",
    "    except:\n",
    "        pt_bins[ix] = (200, 3000)\n",
    "        pass\n",
    "    pass\n",
    "\n",
    "input_files = {pt_bin: input_file for pt_bin, input_file in zip(pt_bins, input_files)}\n",
    "\n",
    "for pt_bin, input_file in input_files.iteritems():\n",
    "    print \"{}: {}\".format(pt_bin, input_file)\n"
   ]
  },
  {
   "cell_type": "code",
   "execution_count": 49,
   "metadata": {},
   "outputs": [
    {
     "name": "stdout",
     "output_type": "stream",
     "text": [
      "X     .shape: (354748, 100)\n",
      "Y     .shape: (354748,)\n",
      "Y_pred.shape: (354748, 1)\n",
      "Weight: Min / 0.1% / Mean / 99.9% / Max: 0.0 / 0.0 / 0.589431598819 / 8.83800323393 / 10209.0604004\n",
      "X     .shape: (354748, 100)\n",
      "Y     .shape: (354748,)\n",
      "Y_pred.shape: (354748, 1)\n",
      "Weight: Min / 0.1% / Mean / 99.9% / Max: 0.0 / 0.0 / 0.589431598819 / 8.83800323393 / 10209.0604004\n",
      "X     .shape: (354748, 100)\n",
      "Y     .shape: (354748,)\n",
      "Y_pred.shape: (354748, 1)\n",
      "Weight: Min / 0.1% / Mean / 99.9% / Max: 0.0 / 0.0 / 0.589431598819 / 8.83800323393 / 10209.0604004\n"
     ]
    }
   ],
   "source": [
    "dfs = dict()\n",
    "for pt_bin, input_file in input_files.iteritems():\n",
    "    with h5py.File(input_file, 'r') as f:\n",
    "\n",
    "        X      = f['X']     [:]\n",
    "        Y      = f['Y']     [:]\n",
    "        Y_pred = f['Y_pred'][:]\n",
    "\n",
    "        print \"X     .shape:\", X     .shape\n",
    "        print \"Y     .shape:\", Y     .shape\n",
    "        print \"Y_pred.shape:\", Y_pred.shape\n",
    "\n",
    "        mv2c_Lead    = f['baseline_tagger'][:,0]\n",
    "        mv2c_SubLead = f['baseline_tagger'][:,1]\n",
    "\n",
    "        jet_pt   = f['jet_pt']  [:] / 1000.\n",
    "        jet_mass = f['jet_mass'][:] / 1000.\n",
    "        jet_eta  = f['jet_eta'] [:]\n",
    "\n",
    "        W_train  = f['W_train'] [:]\n",
    "        W_test   = f['W_test']  [:]\n",
    "        classes  = f['class']   [:]\n",
    "\n",
    "\n",
    "        df_ = pd.DataFrame({\"weight\":  W_test,   # W_test\n",
    "                            \"Y_pred\":  Y_pred.ravel(),\n",
    "                            \"Y\":       Y.ravel(), \n",
    "                            \"classes\": classes.ravel(),\n",
    "                            \"mv2c_Lead\":    mv2c_Lead.ravel(),\n",
    "                            \"mv2c_SubLead\": mv2c_SubLead.ravel(), \n",
    "                            \"jet_pt\":       jet_pt.ravel(),\n",
    "                            \"jet_mass\":     jet_mass.ravel(),\n",
    "                            \"jet_eta\":      jet_eta.ravel(),\n",
    "                           })\n",
    "        # Filter outliers\n",
    "        print \"Weight: Min / 0.1% / Mean / 99.9% / Max: {} / {} / {} / {} / {}\".format(\n",
    "            df_['weight'].min(),\n",
    "            np.percentile(df_['weight'],  0.1),\n",
    "            df_['weight'].mean(),\n",
    "            np.percentile(df_['weight'], 99.9),\n",
    "            df_['weight'].max(),\n",
    "        )\n",
    "        df_['outlier'] = df_['weight'] > 100.\n",
    "\n",
    "        # Add single- and double-b-taggin info\n",
    "        df_['single_b_mv2c'] = df_[['mv2c_Lead', 'mv2c_SubLead']].max(axis=1)\n",
    "        df_['double_b_mv2c'] = df_[['mv2c_Lead', 'mv2c_SubLead']].min(axis=1)\n",
    "        \n",
    "        # Add to dict\n",
    "        dfs[pt_bin] = df_\n",
    "        pass\n",
    "    pass"
   ]
  },
  {
   "cell_type": "code",
   "execution_count": 62,
   "metadata": {},
   "outputs": [
    {
     "name": "stdout",
     "output_type": "stream",
     "text": [
      "(75.0, 82.77777777777777)\n",
      "(82.77777777777777, 90.55555555555556)\n",
      "(90.55555555555556, 98.33333333333333)\n",
      "(98.33333333333333, 106.11111111111111)\n",
      "(106.11111111111111, 113.88888888888889)\n",
      "(113.88888888888889, 121.66666666666666)\n",
      "(121.66666666666666, 129.44444444444446)\n",
      "(129.44444444444446, 137.22222222222223)\n",
      "(137.22222222222223, 145.0)\n",
      "(75.0, 82.77777777777777)\n",
      "(82.77777777777777, 90.55555555555556)\n",
      "(90.55555555555556, 98.33333333333333)\n",
      "(98.33333333333333, 106.11111111111111)\n",
      "(106.11111111111111, 113.88888888888889)\n",
      "(113.88888888888889, 121.66666666666666)\n",
      "(121.66666666666666, 129.44444444444446)\n",
      "(129.44444444444446, 137.22222222222223)\n",
      "(137.22222222222223, 145.0)\n",
      "(75.0, 82.77777777777777)\n",
      "(82.77777777777777, 90.55555555555556)\n",
      "(90.55555555555556, 98.33333333333333)\n",
      "(98.33333333333333, 106.11111111111111)\n",
      "(106.11111111111111, 113.88888888888889)\n",
      "(113.88888888888889, 121.66666666666666)\n",
      "(121.66666666666666, 129.44444444444446)\n",
      "(129.44444444444446, 137.22222222222223)\n",
      "(137.22222222222223, 145.0)\n"
     ]
    },
    {
     "data": {
      "text/plain": [
       "<matplotlib.legend.Legend at 0x139fc9050>"
      ]
     },
     "execution_count": 62,
     "metadata": {},
     "output_type": "execute_result"
    },
    {
     "data": {
      "image/png": "[encoded data removed]",
      "text/plain": [
       "<Figure size 432x288 with 1 Axes>"
      ]
     },
     "metadata": {},
     "output_type": "display_data"
    }
   ],
   "source": [
    "for pt_bin, df in dfs.iteritems():\n",
    "    scan_var = 'jet_mass'\n",
    "    scan_bins = np.linspace(75, 145, 10, endpoint=1)\n",
    "    #scan_bins = [-2.5, -1.0, 0, 1.0, 2.5]\n",
    "    #scan_bins = [200, 400, 600, 800, 1000]\n",
    "    scan_bins = zip(scan_bins[:-1], scan_bins[1:])\n",
    "\n",
    "    pts  = list()\n",
    "    aucs = list()\n",
    "    for scan_bin in scan_bins:\n",
    "        print scan_bin\n",
    "        msk = (df[scan_var] >= scan_bin[0]) & (df[scan_var] < scan_bin[1])\n",
    "        pred = df['Y_pred'][msk].values\n",
    "        true = df['Y']     [msk].values\n",
    "        w    = df['weight'][msk].values\n",
    "\n",
    "        auc = metrics.roc_auc_score(true, pred, sample_weight=w)\n",
    "\n",
    "        pts.append(np.mean(scan_bin))\n",
    "        aucs.append(auc)\n",
    "        pass\n",
    "    \n",
    "    plt.plot(pts, aucs, '-o', label='$p_{{T}} \\in [{:d}, {:d}] GeV$'.format(*pt_bin))\n",
    "    pass\n",
    "    \n",
    "\n",
    "plt.xlabel(\"Jet {}\".format(scan_var))\n",
    "plt.ylabel(\"ROC AUC\")\n",
    "plt.ylim(0.9, 1.0)\n",
    "plt.legend()"
   ]
  },
  {
   "cell_type": "code",
   "execution_count": 5,
   "metadata": {},
   "outputs": [
    {
     "data": {
      "text/plain": [
       "(0.12019567, 0.90783924)"
      ]
     },
     "execution_count": 5,
     "metadata": {},
     "output_type": "execute_result"
    }
   ],
   "source": [
    "Y_pred[Y==0].mean(), Y_pred[Y==1].mean()"
   ]
  },
  {
   "cell_type": "code",
   "execution_count": 152,
   "metadata": {},
   "outputs": [
    {
     "name": "stdout",
     "output_type": "stream",
     "text": [
      "[[ 2.29708291  1.33350308 -0.30413073]\n",
      " [ 2.19568936  2.9762922  -0.2142928 ]\n",
      " [ 2.32208931  2.84579922 -0.07010264]\n",
      " [ 2.33632702  3.07567114 -0.25467738]\n",
      " [ 2.56017049  2.84197515 -0.05092543]]\n",
      "[2.90675552e-13 5.64721522e-13 0.00000000e+00 1.57874461e-12\n",
      " 0.00000000e+00]\n"
     ]
    }
   ],
   "source": [
    "msk_bkg = df0['Y'] == 0\n",
    "print X     [msk_bkg][:5,:3]\n",
    "print W_test[msk_bkg][:5]"
   ]
  },
  {
   "cell_type": "code",
   "execution_count": 30,
   "metadata": {},
   "outputs": [
    {
     "name": "stdout",
     "output_type": "stream",
     "text": [
      "SIGNAL\n",
      "103053  250.46  762.80 2793.77\n",
      "103053   -2.00    0.00    2.00\n",
      "\n",
      "BACKGROUND\n",
      "251695  250.01 1289.86 2999.94\n",
      "251695   -2.00   -0.00    2.00\n",
      "\n",
      "weightHist: 0.0 0.3860256676968623 2.1403061224489797\n",
      "num_w: 0.005012589664503844 0.9981275490028928 3.9642708544418226\n",
      "denom_w: 0.0 0.4220967540491766 10209.060400438531\n"
     ]
    },
    {
     "name": "stderr",
     "output_type": "stream",
     "text": [
      "/Users/asogaard/Library/Python/2.7/lib/python/site-packages/ipykernel_launcher.py:28: RuntimeWarning: invalid value encountered in divide\n"
     ]
    },
    {
     "name": "stdout",
     "output_type": "stream",
     "text": [
      "[(0.0004916420845624386, 2.906755519295987e-13), (0.03353658536585366, 5.647215219078304e-13), (0.0, 0.0), (0.8054945054945055, 1.5787446122573403e-12), (0.0010660980810234541, 0.0)]\n"
     ]
    },
    {
     "data": {
      "image/png": "[encoded data removed]",
      "text/plain": [
       "<Figure size 432x288 with 4 Axes>"
      ]
     },
     "metadata": {},
     "output_type": "display_data"
    }
   ],
   "source": [
    "msk_sig = df0['Y'] == 1\n",
    "\n",
    "num_pt    = df0.loc[ msk_sig, 'jet_pt']\n",
    "num_eta   = df0.loc[ msk_sig, 'jet_eta']\n",
    "denom_pt  = df0.loc[~msk_sig, 'jet_pt']\n",
    "denom_eta = df0.loc[~msk_sig, 'jet_eta']\n",
    "\n",
    "num_w   = df0.loc[ msk_sig, 'weight']\n",
    "denom_w = df0.loc[~msk_sig, 'weight']\n",
    "\n",
    "print \"SIGNAL\"\n",
    "print \"{:6d} {:7.2f} {:7.2f} {:7.2f}\".format(len(num_pt),  np.min(num_pt),  np.mean(num_pt),  np.max(num_pt))\n",
    "print \"{:6d} {:7.2f} {:7.2f} {:7.2f}\".format(len(num_eta), np.min(num_eta), np.mean(num_eta), np.max(num_eta))\n",
    "print \"\"\n",
    "print \"BACKGROUND\"\n",
    "print \"{:6d} {:7.2f} {:7.2f} {:7.2f}\".format(len(denom_pt),  np.min(denom_pt),  np.mean(denom_pt),  np.max(denom_pt))\n",
    "print \"{:6d} {:7.2f} {:7.2f} {:7.2f}\".format(len(denom_eta), np.min(denom_eta), np.mean(denom_eta), np.max(denom_eta))\n",
    "print \"\"\n",
    "\n",
    "bins_pt, bins_eta = 50, 10\n",
    "\n",
    "bins_pt  = np.linspace(num_pt.min(),  num_pt.max(),  bins_pt  + 1, endpoint=True)\n",
    "bins_eta = np.linspace(num_eta.min(), num_eta.max(), bins_eta + 1, endpoint=True)\n",
    "\n",
    "h_denom, xedges, yedges = np.histogram2d(denom_pt, denom_eta, bins=(bins_pt, bins_eta))\n",
    "h_num,   _,      _      = np.histogram2d(num_pt,   num_eta,   bins=(bins_pt, bins_eta))\n",
    "\n",
    "weightHist = np.divide(h_num, h_denom)\n",
    "print \"weightHist:\", np.nanmin(weightHist), np.nanmean(weightHist), np.nanmax(weightHist)\n",
    "print \"num_w:\", np.nanmin(num_w), np.nanmean(num_w), np.nanmax(num_w)\n",
    "print \"denom_w:\", np.nanmin(denom_w), np.nanmean(denom_w), np.nanmax(denom_w)\n",
    "\n",
    "# Compute per-jet weights\n",
    "ixs = np.clip(np.digitize(denom_pt,  xedges) - 1, 0, len(xedges) - 2)\n",
    "iys = np.clip(np.digitize(denom_eta, yedges) - 1, 0, len(yedges) - 2)\n",
    "reweights = weightHist[ixs, iys]\n",
    "\n",
    "h_rew, _, _ = np.histogram2d(denom_pt, denom_eta, bins=(bins_pt, bins_eta), weights=reweights)\n",
    "h_dew, _, _ = np.histogram2d(denom_pt, denom_eta, bins=(bins_pt, bins_eta), weights=denom_w)\n",
    "\n",
    "\n",
    "print zip(reweights, denom_w)[:5]\n",
    "\n",
    "\n",
    "fig, ax = plt.subplots(1,4)\n",
    "ax[0].imshow(h_num,   origin='sw')\n",
    "ax[1].imshow(h_denom, origin='sw')\n",
    "ax[2].imshow(h_rew,   origin='sw')\n",
    "ax[3].imshow(h_dew,   origin='sw');"
   ]
  },
  {
   "cell_type": "code",
   "execution_count": 154,
   "metadata": {
    "scrolled": false
   },
   "outputs": [
    {
     "name": "stdout",
     "output_type": "stream",
     "text": [
      "Predicted   False    True  __all__\n",
      "Actual                            \n",
      "False      229594   22101   251695\n",
      "True         6240   96813   103053\n",
      "__all__    235834  118914   354748\n"
     ]
    },
    {
     "data": {
      "image/png": "[encoded data removed]",
      "text/plain": [
       "<Figure size 648x576 with 2 Axes>"
      ]
     },
     "metadata": {},
     "output_type": "display_data"
    }
   ],
   "source": [
    "def confusion (df):\n",
    "    \n",
    "    # Compute confusion matrix\n",
    "    confusion_matrix = ConfusionMatrix(df['Y'], df['classes'])\n",
    "\n",
    "    print (confusion_matrix)\n",
    "\n",
    "    confusion_matrix.plot()\n",
    "    plt.xlabel('Predicted Hbb (0) non Hbb(1)' )\n",
    "    plt.ylabel('Truth Hbb (0) non Hbb(1)')\n",
    "    plt.show()\n",
    "    return\n",
    "\n",
    "#msk = (df0['jet_pt'] > 400.) & (df0['jet_pt'] < 600.)\n",
    "confusion(df0)"
   ]
  },
  {
   "cell_type": "code",
   "execution_count": 155,
   "metadata": {
    "scrolled": false
   },
   "outputs": [
    {
     "data": {
      "image/png": "[encoded data removed]",
      "text/plain": [
       "<Figure size 432x288 with 1 Axes>"
      ]
     },
     "metadata": {},
     "output_type": "display_data"
    },
    {
     "data": {
      "image/png": "[encoded data removed]",
      "text/plain": [
       "<Figure size 432x288 with 1 Axes>"
      ]
     },
     "metadata": {},
     "output_type": "display_data"
    },
    {
     "data": {
      "image/png": "[encoded data removed]",
      "text/plain": [
       "<Figure size 432x288 with 1 Axes>"
      ]
     },
     "metadata": {},
     "output_type": "display_data"
    },
    {
     "data": {
      "image/png": "[encoded data removed]",
      "text/plain": [
       "<Figure size 432x288 with 1 Axes>"
      ]
     },
     "metadata": {},
     "output_type": "display_data"
    },
    {
     "data": {
      "image/png": "[encoded data removed]",
      "text/plain": [
       "<Figure size 432x432 with 2 Axes>"
      ]
     },
     "metadata": {},
     "output_type": "display_data"
    },
    {
     "data": {
      "image/png": "[encoded data removed]",
      "text/plain": [
       "<Figure size 432x432 with 2 Axes>"
      ]
     },
     "metadata": {},
     "output_type": "display_data"
    }
   ],
   "source": [
    "def plot_distribution (df, var, name=None, bins=None):\n",
    "    \n",
    "    msk_sig = (df['Y'] == 1)\n",
    "   \n",
    "    fig, ax = plt.subplots(figsize=(6,4))\n",
    "    plt.hist(df.loc[ msk_sig, var], weights=df.loc[ msk_sig, 'weight'], bins=bins, alpha=0.5, color='red',  label='Signal',     density=1.)\n",
    "    plt.hist(df.loc[~msk_sig, var], weights=df.loc[~msk_sig, 'weight'], bins=bins, alpha=0.5, color='blue', label='Background', density=1.)\n",
    "    plt.xlabel(name or var)\n",
    "    plt.ylabel('Counts')\n",
    "    plt.yscale('log')\n",
    "    plt.legend()\n",
    "    return\n",
    "\n",
    "def plot_stack (df, vars, bins=None):\n",
    "    \n",
    "    N = len(vars)\n",
    "    msk_sig = (df['Y'] == 1)\n",
    "    \n",
    "    fig, axes = plt.subplots(len(vars), figsize=(6, 3 * N), sharex=True)\n",
    "    for ix, (var, ax) in enumerate(zip(vars, axes)):\n",
    "        ax.hist(df.loc[ msk_sig, var], weights=df.loc[ msk_sig, 'weight'], bins=bins, alpha=0.5, color='red',  label='Signal',     density=1.)\n",
    "        ax.hist(df.loc[~msk_sig, var], weights=df.loc[~msk_sig, 'weight'], bins=bins, alpha=0.5, color='blue', label='Background', density=1.)\n",
    "        ax.set_ylabel('Counts')\n",
    "        ax.legend(title=var)\n",
    "        pass\n",
    "    return\n",
    "\n",
    "# Plot tagger distribution\n",
    "bins = np.linspace(0, 1, 100 + 1, endpoint=True)\n",
    "plot_distribution(df0, 'Y_pred', 'DL1 score', bins)\n",
    "plot_distribution(df0, 'jet_pt',   bins=100)\n",
    "plot_distribution(df0, 'jet_mass', bins=100)\n",
    "plot_distribution(df0, 'jet_eta',  bins=100)\n",
    "\n",
    "plot_stack(df0, ['mv2c_Lead', 'mv2c_SubLead'], bins=100)\n",
    "\n",
    "plot_stack(df0, ['single_b_mv2c', 'double_b_mv2c'], bins=100)"
   ]
  },
  {
   "cell_type": "code",
   "execution_count": 28,
   "metadata": {},
   "outputs": [
    {
     "name": "stdout",
     "output_type": "stream",
     "text": [
      "Grabbing first hist file: input/hist__D_80_64_32_32_16_8_4_2relu_adam_clipn0_binary_crossentropymytest_tensorflow__lr10_trainBS8192_nE200_s12264_2018-11-07_val10.h5\n"
     ]
    }
   ],
   "source": [
    "# Get hist file\n",
    "hist_files = glob.glob('input/hist*tensorflow*11-07*.h5')\n",
    "assert len(hist_files) > 0, \\\n",
    "    \"No hist files found.\"\n",
    "print \"Grabbing first hist file:\",\n",
    "hist_file = hist_files[0]\n",
    "print hist_file"
   ]
  },
  {
   "cell_type": "code",
   "execution_count": 29,
   "metadata": {},
   "outputs": [
    {
     "data": {
      "image/png": "[encoded data removed]",
      "text/plain": [
       "<Figure size 360x504 with 2 Axes>"
      ]
     },
     "metadata": {},
     "output_type": "display_data"
    }
   ],
   "source": [
    "# Load history from file\n",
    "history = pd.read_hdf(hist_file, key='history')\n",
    "\n",
    "# Plot loss evolution\n",
    "fig, ax = plt.subplots(2, figsize=(5,7), sharex=True)\n",
    "\n",
    "train_loss = history['loss']\n",
    "val_loss   = history['val_loss']\n",
    "train_acc  = history['acc']\n",
    "val_acc    = history['val_acc']\n",
    "\n",
    "epochs = np.arange(len(train_loss))\n",
    "\n",
    "ax[0].plot(epochs, train_loss, label='Training Loss(Dropout(0.1))')\n",
    "ax[0].plot(epochs, val_loss,   label='Validation Loss)')\n",
    "ax[0].set_ylabel(\"Loss\")\n",
    "ax[0].legend()\n",
    "\n",
    "ax[1].plot(epochs, train_acc, label='Training Accuracy(Dropout(0.1))')\n",
    "ax[1].plot(epochs, val_acc,   label='Validation Accuracy)')\n",
    "ax[1].set_xlabel('Numbers of epochs')\n",
    "ax[1].set_ylabel(\"Accuracy\")\n",
    "ax[1].legend()\n",
    "\n",
    "plt.show()"
   ]
  },
  {
   "cell_type": "code",
   "execution_count": 24,
   "metadata": {},
   "outputs": [
    {
     "name": "stdout",
     "output_type": "stream",
     "text": [
      "SIGNAL:     0.2904963523402528 0.9981275490028928 102860.03830739511\n",
      "BACKGROUND: 0.7095036476597472 0.4220967540491766 106239.64251040752\n"
     ]
    }
   ],
   "source": [
    "msk_sig = (df0['Y'] == 1)\n",
    "print \"SIGNAL:    \", ( msk_sig).mean(), df0.loc[ msk_sig, 'weight'].mean(), df0.loc[ msk_sig, 'weight'].sum()\n",
    "print \"BACKGROUND:\", (~msk_sig).mean(), df0.loc[~msk_sig, 'weight'].mean(), df0.loc[~msk_sig, 'weight'].sum()"
   ]
  },
  {
   "cell_type": "code",
   "execution_count": 25,
   "metadata": {},
   "outputs": [],
   "source": [
    "num   = df0.loc[ msk_sig, ['jet_pt', 'jet_eta', 'weight']]\n",
    "denom = df0.loc[~msk_sig, ['jet_pt', 'jet_eta', 'weight']]"
   ]
  },
  {
   "cell_type": "code",
   "execution_count": 26,
   "metadata": {},
   "outputs": [
    {
     "name": "stdout",
     "output_type": "stream",
     "text": [
      "(251695,) (251695,)\n",
      "====================\n",
      "[ 250.46      301.326215  352.19243   403.058645  453.92486   504.791075\n",
      "  555.65729   606.523505  657.38972   708.255935  759.12215   809.988365\n",
      "  860.85458   911.720795  962.58701  1013.453225 1064.31944  1115.185655\n",
      " 1166.05187  1216.918085 1267.7843   1318.650515 1369.51673  1420.382945\n",
      " 1471.24916  1522.115375 1572.98159  1623.847805 1674.71402  1725.580235\n",
      " 1776.44645  1827.312665 1878.17888  1929.045095 1979.91131  2030.777525\n",
      " 2081.64374  2132.509955 2183.37617  2234.242385 2285.1086   2335.974815\n",
      " 2386.84103  2437.707245 2488.57346  2539.439675 2590.30589  2641.172105\n",
      " 2692.03832  2742.904535 2793.77075 ]\n",
      "(50, 10)\n"
     ]
    },
    {
     "name": "stderr",
     "output_type": "stream",
     "text": [
      "/Users/asogaard/Library/Python/2.7/lib/python/site-packages/ipykernel_launcher.py:35: RuntimeWarning: invalid value encountered in divide\n",
      "/Users/asogaard/Library/Python/2.7/lib/python/site-packages/ipykernel_launcher.py:36: RuntimeWarning: invalid value encountered in divide\n"
     ]
    },
    {
     "data": {
      "text/plain": [
       "<matplotlib.image.AxesImage at 0x13698d050>"
      ]
     },
     "execution_count": 26,
     "metadata": {},
     "output_type": "execute_result"
    },
    {
     "data": {
      "image/png": "[encoded data removed]",
      "text/plain": [
       "<Figure size 576x432 with 7 Axes>"
      ]
     },
     "metadata": {},
     "output_type": "display_data"
    }
   ],
   "source": [
    "bins_pt, bins_eta = 50, 10\n",
    "bins_pt  = np.linspace(num['jet_pt'] .min(), num['jet_pt'] .max(), bins_pt  + 1, endpoint=True)\n",
    "bins_eta = np.linspace(num['jet_eta'].min(), num['jet_eta'].max(), bins_eta + 1, endpoint=True)\n",
    "\n",
    "h_denom, xedges, yedges = np.histogram2d(denom['jet_pt'], denom['jet_eta'], bins=(bins_pt, bins_eta))\n",
    "h_num,   _,      _      = np.histogram2d(num  ['jet_pt'], num  ['jet_eta'], bins=(bins_pt, bins_eta))\n",
    "h_denom = np.clip(h_denom, 1E-05, None)\n",
    "h_ratio = h_num / h_denom\n",
    "\n",
    "h_reweight, _, _ = np.histogram2d(denom['jet_pt'], denom['jet_eta'], bins=(bins_pt, bins_eta), weights=denom['weight'])\n",
    "h_count,    _, _ = np.histogram2d(denom['jet_pt'], denom['jet_eta'], bins=(bins_pt, bins_eta))\n",
    "\n",
    "\n",
    "h_test = np.zeros(h_num.shape)\n",
    "for pt, eta in zip(num['jet_pt'], num['jet_eta']):\n",
    "    ix = np.clip(np.digitize(pt,  xedges) - 1, 0, len(xedges) - 2)\n",
    "    iy = np.clip(np.digitize(eta, yedges) - 1, 0, len(yedges) - 2)\n",
    "    h_test[ix,iy] = h_ratio[ix, iy]\n",
    "    pass\n",
    "\n",
    "ixs = np.clip(np.digitize(denom['jet_pt'],  xedges) - 1, 0, len(xedges) - 2)\n",
    "iys = np.clip(np.digitize(denom['jet_eta'], yedges) - 1, 0, len(yedges) - 2)\n",
    "\n",
    "print h_ratio[ixs, iys].shape, denom['weight'].shape\n",
    "print \"=\" * 20\n",
    "\n",
    "print xedges\n",
    "print h_reweight.shape\n",
    "\n",
    "fig, ax = plt.subplots(1, 7, figsize=(8,6))\n",
    "ax[0].imshow(h_num,                origin='sw')\n",
    "ax[1].imshow(h_denom,              origin='sw')\n",
    "ax[2].imshow(h_ratio,              origin='sw')\n",
    "ax[3].imshow(h_denom * h_ratio,    origin='sw')\n",
    "ax[4].imshow((h_denom * h_ratio - h_num)/h_num, origin='sw', vmin=-0.01, vmax=0.01, cmap='RdBu')\n",
    "ax[5].imshow(h_reweight / h_count, origin='sw')\n",
    "ax[6].imshow(h_test,               origin='sw')"
   ]
  },
  {
   "cell_type": "code",
   "execution_count": null,
   "metadata": {},
   "outputs": [],
   "source": [
    "signal     = df0[(df0['Y']==0)&(df0['jet_pt']<=2000)]\n",
    "background = df0[(df0['Y']==1)&(df0['jet_pt']<=2000)]\n",
    "\n",
    "#print(mine)\n",
    "####################   mv2c  cut\n",
    "\n",
    "mv2c_sig   = signal    [(signal['single_b_mv2']     > 0.83)]\n",
    "mv2c_bkg   = background[(background['single_b_mv2'] < 0.83)]\n",
    "mv2c_bkg_d = background[(background['double_b_mv2'] < 0.11)]\n",
    "\n",
    "mine_sig = signal[signal['classes']==0]"
   ]
  },
  {
   "cell_type": "code",
   "execution_count": null,
   "metadata": {
    "scrolled": true
   },
   "outputs": [],
   "source": [
    "print(df['weight'])\n",
    "\n",
    "import array\n",
    "import operator"
   ]
  },
  {
   "cell_type": "code",
   "execution_count": null,
   "metadata": {},
   "outputs": [],
   "source": [
    "import ROOT\n",
    "import array\n",
    "import operator\n",
    "#from iteration_utilities import groupedby\n",
    "#from operator import itemgetter\n",
    "\n",
    "def getCutValue(disc, weight,eff_target):\n",
    "        a=np.column_stack((disc, weight))\n",
    "        a=a[a[:,0].argsort()]\n",
    "        return a[np.argmin(a[:,1].cumsum() < (1-eff_target)*np.sum(weight)),0]\n",
    "def getEffCurve(scoreList, varList,weight,  label, bins, scoreCut = None, eff_target = 0.6):\n",
    "    # initialize histogra\n",
    "    histName, displayLabel = label\n",
    "\n",
    "    \n",
    "    h_base   = ROOT.TH1D(histName+\"_beforeCut\", histName+\"_beforeCut\", len(bins)-1, array.array('d', bins))\n",
    "    h_base.Sumw2()\n",
    "\n",
    "    h_select = ROOT.TH1D(histName+\"_afterCut\", histName+\"_afterCut\", len(bins)-1, array.array('d', bins)) \n",
    "    h_select.Sumw2()\n",
    "    # determine cuts\n",
    "    scoreCut = getCutValue(scoreList,weight, eff_target)\n",
    "    print (\"score Cut\", scoreCut)\n",
    "\n",
    "    # now loop over data points\n",
    "    for isampe in range(scoreList.shape[0]):\n",
    "        score = scoreList[isampe]\n",
    "        pt = varList[isampe]\n",
    "\n",
    "        h_base.Fill(pt,weight[isampe])\n",
    "        if score > scoreCut:\n",
    "            h_select.Fill(pt,weight[isampe])\n",
    "\n",
    "    # get efficiency curve\n",
    "    heff = ROOT.TEfficiency(h_select, h_base)\n",
    "    heff.SetNameTitle(histName, displayLabel)\n",
    "\n",
    "    return heff\n",
    "\n",
    "    \n",
    "def getFixEffCurve(scoreList, varList,weight, weight_bkg, LightscoreList, LightvarList, label, bins, scoreCut = None, fix_eff_target = 0.6):\n",
    "        # get pt-dependent cut in order to reach a fixed efficiency for each pT bin                                                                                                                                                                                           \n",
    "  #      print (\"varlist \", varList)\n",
    "  #      print (\"ptbins\", bins)\n",
    "    \n",
    " #if scoreCutList is None:\n",
    "        scoreCutList = []\n",
    "        print(fix_eff_target)\n",
    "        for ibin in range(len(bins)-1):\n",
    "                        ptmin = bins[ibin]\n",
    "                        ptmax = bins[ibin+1]\n",
    "                        scoreList_ptslice = scoreList[ np.logical_and(varList>=ptmin, varList<ptmax) ]\n",
    "                        weight_ptslice = weight[ np.logical_and(varList>=ptmin, varList<ptmax) ]\n",
    "                       # print(scoreList_ptslice )\n",
    "                        scoreCutList.append(getCutValue(scoreList_ptslice,weight_ptslice, fix_eff_target))\n",
    "        weight=np.array(weight)\n",
    "        weight_bkg=np.array(weight_bkg)\n",
    "        print (scoreCutList) \n",
    "       #if onlyReturnCutList:\n",
    "       #     return scoreCutList\n",
    "       # print(label)\n",
    "        histName, displayLabel = label\n",
    "\n",
    "        h_base   = ROOT.TH1D(histName+\"_beforeCut\", histName+\"_beforeCut\", len(bins)-1,array.array('d', bins))\n",
    "        h_base.Sumw2()\n",
    "        \n",
    "        h_select = ROOT.TH1D(histName+\"_afterCut\", histName+\"_afterCut\", len(bins)-1, array.array('d', bins))\n",
    "        h_select.Sumw2()\n",
    "       # print(weight_bkg)\n",
    "        for isampe in range(np.shape(LightscoreList)[0]):\n",
    "                score = LightscoreList[isampe]\n",
    "                pt = LightvarList[isampe]\n",
    "          #      print(np.shape(weight_bkg))\n",
    "          #      print(np.shape(LightvarList))\n",
    "                \n",
    "                wt_bkg=weight_bkg[isampe]\n",
    "          #      print(isampe, weight_bkg)\n",
    "                if pt < bins[0]: continue\n",
    "                if pt >= bins[-1]: continue\n",
    "\n",
    "                ptbin = np.digitize(pt, bins)-1\n",
    "                scoreCut = scoreCutList[ptbin]\n",
    "\n",
    "                h_base.Fill(pt, wt_bkg)\n",
    "                if score > scoreCut:\n",
    "                        h_select.Fill(pt,wt_bkg)\n",
    "\n",
    "        heff = ROOT.TEfficiency(h_select, h_base)\n",
    "        heff.SetNameTitle(histName, displayLabel)\n",
    "\n",
    "        return heff"
   ]
  },
  {
   "cell_type": "code",
   "execution_count": null,
   "metadata": {},
   "outputs": [],
   "source": [
    "#def getCutValue(disc, weight,eff_target):\n",
    "#       # print( disc)\n",
    "#        return np.sort(disc)[ int((1.0-eff_target)*len(disc)) ]"
   ]
  },
  {
   "cell_type": "code",
   "execution_count": null,
   "metadata": {},
   "outputs": [],
   "source": [
    "ptbins=(np.arange(8)+np.ones(8))*70+520\n",
    "#ptbins=(np.arange(10)+np.ones(10))*200\n",
    "#ptbins=ptbins+np.ones(19)*50\n",
    "print(ptbins[:])\n",
    "varList=np.array(df0['jet_pt'])\n",
    "#print(varList)\n",
    "scoreList=np.array(df0['Y0'])\n",
    "#print(scoreList)\n",
    "#print(getFixEffCurve(scoreList, varList, \"bb\", ptbins, 0.7 ))"
   ]
  },
  {
   "cell_type": "code",
   "execution_count": null,
   "metadata": {},
   "outputs": [],
   "source": [
    "def MultipleEffCurve(outputName, approachList, bins, scoreCut = None, eff_target = 0.6):\n",
    "    fout = ROOT.TFile(outputName, \"recreate\")\n",
    "    for scoreList, varList, weight,  label in approachList:\n",
    "        print(label)\n",
    "        heff = getEffCurve(scoreList, varList, weight, label, bins,  eff_target)\n",
    "        fout.WriteTObject(heff, heff.GetName(), \"Overwrite\")\n",
    "\n",
    "    fout.Close()\n"
   ]
  },
  {
   "cell_type": "code",
   "execution_count": null,
   "metadata": {},
   "outputs": [],
   "source": [
    "def getLRejCurveFixedEff(scoreList, varList,weight, weight_bkg, LightscoreList, LightvarList, label, bins, scoreCut = None, eff_target = 0.6):\n",
    "\t# initialize histogram\n",
    "\thistName, displayLabel = label\n",
    "\n",
    "\th_base   = ROOT.TH1D(histName+\"_beforeCut\", histName+\"_beforeCut\", len(bins)-1, array.array('d', bins))\n",
    "\th_base.Sumw2()\n",
    "\n",
    "\th_select = ROOT.TH1D(histName+\"_afterCut\", histName+\"_afterCut\", len(bins)-1, array.array('d', bins)) \n",
    "\th_select.Sumw2()\n",
    "\tweight=np.array(weight)\n",
    "\tweight_bkg=np.array(weight_bkg)\n",
    "\tprint(weight_bkg[1])\n",
    "    \n",
    "\t# determine cuts for bjets\n",
    "\tif scoreCut is None:\n",
    "\t\t#scoreCut = getCutValue(scoreList, weight, eff_target)\n",
    "\t\tscoreCut = getCutValue(scoreList, weight, eff_target)\n",
    "\t\tprint(scoreCut)\n",
    "   \n",
    "\t# now loop over data points of ljets\n",
    "\tfor isampe in range(np.shape(LightscoreList)[0]):\n",
    "\t\tscore = LightscoreList[isampe]\n",
    "\t\tpt = LightvarList[isampe]\n",
    "    \n",
    "\t\tprint(weight_bkg[isampe])\n",
    "\t\th_base.Fill(pt,weight_bkg[isampe])\n",
    "\t\tif score > scoreCut:\n",
    "\t\t\th_select.Fill(pt,weight_bkg[isampe])\n",
    "\n",
    "\t# get efficiency curve\n",
    "\theff = ROOT.TEfficiency(h_select, h_base)\n",
    "\theff.SetNameTitle(histName, displayLabel)\n",
    "\n",
    "\treturn heff\n",
    "#scoreList, varList, label, bins, fix_eff_target, scoreCutList=None, onlyReturnCutList=False\n",
    "def MultipleRejCurve(outputName, approachList,weight,weight_bkg, bins, scoreCut = None, eff_target = 0.6):\n",
    "\n",
    "\tfout = ROOT.TFile(outputName, \"update\")\n",
    "\n",
    "\tfor scoreList, varList, LightscoreList, LightvarList, label in approachList:\n",
    "\t\theff = getFixEffCurve(scoreList, varList,weight, weight_bkg, LightscoreList, LightvarList, label, bins)\n",
    "\t\tfout.WriteTObject(heff, heff.GetName(), \"Overwrite\")\n",
    "\n",
    "\tfout.Close()\n"
   ]
  },
  {
   "cell_type": "code",
   "execution_count": null,
   "metadata": {},
   "outputs": [],
   "source": [
    "outputName=\"eff_plot.root\"\n",
    "approachList=[]\n",
    "approachList.append((np.array(df['Y0']),np.array(df['jet_pt']),np.array(df['weight']),(\"DL training\",\"60%\")))\n",
    "approachList.append((np.array(df['double_b_mv2']),np.array(df['jet_pt']),np.array(df['weight']),(\"double_b_mv2\",\"60%\")))\n",
    "approachList.append((np.array(df['single_b_mv2']),np.array(df['jet_pt']),np.array(df['weight']),(\"single_b_mv2\",\"60%\")))\n",
    "\n",
    "MultipleEffCurve(outputName, approachList,ptbins)\n",
    "\n"
   ]
  },
  {
   "cell_type": "code",
   "execution_count": null,
   "metadata": {},
   "outputs": [],
   "source": [
    "pt_pred =pd.DataFrame({\"weight\":weight.ravel(),\"classes\":classes.ravel(),\"Y\":Y.ravel(),\"Y_pred\":Y_pred[:,0].ravel(), \"mv2c_Lead\":mv2c_Lead.ravel(),\"mv2c_SubLead\":mv2c_SubLead.ravel(), \"jet_pt\":jet_pt.ravel()})\n",
    "pt_pred['dl_score']=np.log(pt_pred['Y_pred']/(1-pt_pred['Y_pred']))\n",
    "pt_pred['single_b_mv2']=pt_pred[['mv2c_Lead', 'mv2c_SubLead']].max(axis=1)\n",
    "pt_pred['double_b_mv2']=pt_pred[['mv2c_Lead', 'mv2c_SubLead']].min(axis=1)\n",
    "\n",
    "pt_pred_h=pt_pred[(pt_pred['jet_pt']>1200)&(pt_pred['jet_pt']<2000)]\n",
    "pt_pred_m=pt_pred[(pt_pred['jet_pt']>500)&(pt_pred['jet_pt']<800)]\n",
    "pt_pred_l=pt_pred[(pt_pred['jet_pt']>300)&(pt_pred['jet_pt']<500)]\n",
    "#print(pt_pred_h)\n",
    "fig, (ax1, ax2) = plt.subplots(nrows=2)\n",
    "ax1.hist(pt_pred[pt_pred['Y']==0]['jet_pt'], 400,normed=0, weights= pt_pred[pt_pred['Y']==0]['weight'],color='r',  label='Signal Leading subjets')                                                          \n",
    "ax1.hist(pt_pred[pt_pred['Y']==1]['jet_pt'], 400,normed=0, weights= pt_pred[pt_pred['Y']==1]['weight'],color='b',   label='bkg Leading subjets')                                                          \n",
    "ax1.set_yscale('log')\n",
    "fig.show()\n",
    "\n",
    "fig, (ax1, ax2) = plt.subplots(nrows=2)\n",
    "ax1.hist(pt_pred[pt_pred['Y']==0]['mv2c_Lead'], 400,normed=0, weights= pt_pred[pt_pred['Y']==0]['weight'],color='r',  label='Signal Leading subjets')                                                          \n",
    "ax1.hist(pt_pred[pt_pred['Y']==1]['mv2c_Lead'], 400,normed=0, weights= pt_pred[pt_pred['Y']==1]['weight'],color='b',   label='bkg Leading subjets')                                                          \n",
    "\n",
    "\n",
    "ax1.legend()\n",
    "ax2.hist(pt_pred[pt_pred['Y']==0]['mv2c_SubLead'], 400,normed=0, weights= pt_pred[pt_pred['Y']==0]['weight'],color='r', label='Signal SubLeading subjets')                                                          \n",
    "ax2.hist(pt_pred[pt_pred['Y']==1]['mv2c_SubLead'], 400,normed=0, weights= pt_pred[pt_pred['Y']==1]['weight'],color='b',   label='bkg SubLeading subjets')                                                          \n",
    "\n",
    "#ax1.set_yscale('log')\n",
    "plt.xlabel('MV2C score')\n",
    "plt.legend()\n",
    "fig.savefig('mv2c_subjet.pdf')\n",
    "fig, (ax1, ax2) = plt.subplots(nrows=2)\n",
    "ax1.hist(pt_pred[pt_pred['Y']==0]['single_b_mv2'], 400,normed=0, weights= pt_pred[pt_pred['Y']==0]['weight'],color='r',  label='Signal Single-b')                                                          \n",
    "ax1.hist(pt_pred[pt_pred['Y']==1]['single_b_mv2'], 400,normed=0, weights= pt_pred[pt_pred['Y']==1]['weight'],color='b',  label='bkg Single-b')                                                          \n",
    "\n",
    "ax1.legend()\n",
    "ax2.hist(pt_pred[pt_pred['Y']==0]['double_b_mv2'], 400,normed=0, weights= pt_pred[pt_pred['Y']==0]['weight'],color='r',  label='Signal double_b')                                                          \n",
    "ax2.hist(pt_pred[pt_pred['Y']==1]['double_b_mv2'], 400,normed=0, weights= pt_pred[pt_pred['Y']==1]['weight'],color='b',  label='bkg double_b')                                                          \n",
    "\n",
    "#ax1.set_yscale('log')\n",
    "plt.xlabel('MV2C score')\n",
    "plt.legend()\n",
    "#print(np.shape(pt_pred_h[(pt_pred_h['Y']!=pt_pred_h['classes'])&(pt_pred_h['Y']!=0)]))\n",
    "#plt.hist(pt_pred['Y_pred'],200,weights= pt_pred['weight'],histtype='step')\n",
    "plt.show()\n",
    "\n",
    "fig.savefig('sig_double.pdf')"
   ]
  },
  {
   "cell_type": "code",
   "execution_count": null,
   "metadata": {},
   "outputs": [],
   "source": [
    "outputName=\"rej_plot.root\"\n",
    "approachList=[]\n",
    "print(np.shape(np.array(df['Y0'])))\n",
    "print(np.shape(np.array(df['jet_pt'])))\n",
    "approachList.append((np.array(df['Y0']),np.array(df['jet_pt']),np.array(bkg['Y0']),np.array(bkg['jet_pt']),(\"DL training\",\"60%\")))\n",
    "approachList.append((np.array(df['double_b_mv2']),np.array(df['jet_pt']),np.array(bkg['double_b_mv2']),np.array(bkg['jet_pt']),(\"double_b_mv2\",\"60%\")))\n",
    "approachList.append((np.array(df['single_b_mv2']),np.array(df['jet_pt']),np.array(bkg['single_b_mv2']),np.array(bkg['jet_pt']),(\"single_b_mv2\",\"60%\")))\n",
    "weight=df['weight']\n",
    "weight_bkg=bkg['weight']\n",
    "MultipleRejCurve(outputName, approachList, weight, weight_bkg, ptbins)\n",
    "\n"
   ]
  },
  {
   "cell_type": "code",
   "execution_count": null,
   "metadata": {},
   "outputs": [],
   "source": [
    "outputName=\"rej_plot.root\"\n",
    "approachList=[]\n",
    "\n",
    "approachList.append((np.array(df['Y0']),np.array(df['jet_pt']),np.array(bkg['Y0']),np.array(bkg['jet_pt']),(\"DL training\",\"60%\")))\n",
    "approachList.append((np.array(df['double_b_mv2']),np.array(df['jet_pt']),np.array(bkg['double_b_mv2']),np.array(bkg['jet_pt']),(\"double_b_mv2\",\"60%\")))\n",
    "approachList.append((np.array(df['single_b_mv2']),np.array(df['jet_pt']),np.array(bkg['single_b_mv2']),np.array(bkg['jet_pt']),(\"single_b_mv2\",\"60%\")))\n",
    "weight=df['weight']\n",
    "weight_bkg=bkg['weight']\n",
    "MultipleRejCurve(outputName, approachList, weight,weight_bkg, ptbins)"
   ]
  },
  {
   "cell_type": "code",
   "execution_count": null,
   "metadata": {},
   "outputs": [],
   "source": [
    "def ConvertEffToGraph(effplot, bins, doEff=True):\n",
    "    print (effplot)\n",
    "    eff = []\n",
    "    efferror = []\n",
    "    print(bins, len(bins))\n",
    "    for i in range(len(bins)-1):\n",
    "        if doEff:\n",
    "            eff.append(effplot.GetEfficiency(i+1))\n",
    "            efferror.append(effplot.GetEfficiencyErrorLow(i+1))\n",
    "        else:\n",
    "            if (effplot.GetEfficiency(i+1)==0):\n",
    "                eff.append(1)\n",
    "                efferror.append( effplot.GetEfficiencyErrorLow(i+1)/1 )\n",
    "            else:\n",
    "                eff.append(1./(effplot.GetEfficiency(i+1)))\n",
    "                efferror.append( (effplot.GetEfficiencyErrorLow(i+1)/effplot.GetEfficiency(i+1))/effplot.GetEfficiency(i+1) )\n",
    "\n",
    "\n",
    "    bins=bins+np.ones(8)*100\n",
    "    bins=bins[:-1]\n",
    "    \n",
    "    newgraph = ROOT.TGraphErrors (len(bins), array.array('d', bins), array.array('d', eff), array.array('d', [0]*len(bins)), array.array('d', efferror))\n",
    "    return newgraph\n",
    "    #for i in range(len(bins)):\n",
    "    #    newgraph.SetBinError(i+1, eff[i])\n",
    "\n",
    "def GetRelativeRej(rejplot1, rejplot2, bins):\n",
    "    rel = []\n",
    "    relerror = []\n",
    "\n",
    "    for i in range(len(bins)):\n",
    "        rel.append( rejplot1.GetEfficiency(i+1)/rejplot2.GetEfficiency(i+1) )\n",
    "        relerror.append( rel[i]*sqrt( (rejplot1.GetEfficiencyErrorLow(i+1)/rejplot1.GetEfficiency(i+1))**2 + (rejplot2.GetEfficiencyErrorLow(i+1)/rejplot2.GetEfficiency(i+1))**2 ) )\n",
    "\n",
    "    newgraph = ROOT.TGraphErrors (len(bins), array.array('d', bins), array.array('d', rel), array.array('d', [0]*len(bins)), array.array('d', relerror))\n",
    "    return newgraph"
   ]
  },
  {
   "cell_type": "code",
   "execution_count": null,
   "metadata": {},
   "outputs": [],
   "source": [
    "outputName=\"eff_plot.root\"\n",
    "file=ROOT.TFile(outputName, \"r\")\n",
    "dltree=file.Get(\"DL training\")\n",
    "dmtree=file.Get(\"double_b_mv2\")\n",
    "smtree=file.Get(\"single_b_mv2\")\n",
    "EffCurves = [dltree,dmtree,smtree]\n",
    "label = [\"DL training(60% WP)\",\"Baseline double-btagged subjets(60% WP)\",\"Baseline single-btagged subjets(60% WP)\"]\n",
    "legend = ROOT.TLegend(0.1, 0.7, 0.5, 0.9)\n",
    "legend_rel = ROOT.TLegend(0.1, 0.7, 0.5, 0.9)\n",
    "colorlist=[2,8,38]\n",
    "ROCs = []\n",
    "varname=\"eff\"\n",
    "canvas = ROOT.TCanvas(varname, varname, 800, 600)\n",
    "mg = ROOT.TMultiGraph()\n",
    "mg_rel = ROOT.TMultiGraph()\n",
    "\n",
    "for i in range(len(EffCurves)):\n",
    "\n",
    "    ROC = ConvertEffToGraph(EffCurves[i],ptbins, True)\n",
    "\n",
    "    ROC.SetLineWidth(2)\n",
    "    ROC.SetLineColor(colorlist[i])\n",
    "    ROC.SetMarkerColor(colorlist[i])\n",
    "    ROC.SetMarkerStyle(1)\n",
    "    mg.SetTitle(\"Hbb-tagging efficiency for a fixed 60% WP cut Vs Large R-jet pT;Jet Pt(GeV); Hbb-tagging efficiency\")\n",
    "\n",
    "    mg.Add(ROC)\n",
    "\n",
    "    legend.AddEntry(ROC, label[i], \"lp\")\n",
    "\n",
    "    ROCs.append(ROC)\n",
    "\n",
    "mg.Draw(\"AL*\")\n",
    "mg.GetHistogram().SetMaximum(1.)\n",
    "legend.Draw(\"same\")\n",
    "canvas.SaveAs(\"eff.pdf\")\n",
    "\n",
    "file.Close()\n",
    "canvas.Close()"
   ]
  },
  {
   "cell_type": "code",
   "execution_count": null,
   "metadata": {
    "scrolled": true
   },
   "outputs": [],
   "source": [
    "import ROOT\n",
    "outputName=\"rej_plot.root\"\n",
    "file=ROOT.TFile(outputName, \"r\")\n",
    "dltree=file.Get(\"DL training\")\n",
    "dmtree=file.Get(\"double_b_mv2\")\n",
    "smtree=file.Get(\"single_b_mv2\")\n",
    "EffCurves = [dltree,dmtree,smtree]\n",
    "label = [\"DL training(60% WP)\",\"Baseline double-btagged subjets(60% WP)\",\"Baseline single-btagged subjets(60% WP)\"]\n",
    "legend = ROOT.TLegend(0.1, 0.7, 0.5, 0.9)\n",
    "legend_rel = ROOT.TLegend(0.1, 0.7, 0.5, 0.9)\n",
    "colorlist=[2,8,38]\n",
    "\n",
    "varname=\"rej\"\n",
    "canvas = ROOT.TCanvas(varname, varname, 800, 600)\n",
    "mg = ROOT.TMultiGraph()\n",
    "mg_rel = ROOT.TMultiGraph()\n",
    "\n",
    "for i in range(len(EffCurves)):\n",
    "\n",
    "    ROC = ConvertEffToGraph(EffCurves[i],ptbins, False)\n",
    "\n",
    "    ROC.SetLineWidth(2)\n",
    "    ROC.SetLineColor(colorlist[i])\n",
    "    ROC.SetMarkerColor(colorlist[i])\n",
    "    ROC.SetMarkerStyle(1)\n",
    "    #mg.GetYaxis().SetTitle(\"Dijet Rejection\")\n",
    "    mg.Add(ROC)\n",
    "    mg.SetTitle(\"Dijets rejection at flat Hbb-tagging efficiency of 60% vs Large R-jet pT;Jet Pt(GeV); Dijets Rejection\")\n",
    "\n",
    "\n",
    "    legend.AddEntry(ROC, label[i], \"lp\")\n",
    "\n",
    "    ROCs.append(ROC)\n",
    "\n",
    "mg.Draw(\"AL*\")\n",
    "mg.GetHistogram().SetMaximum(75.)\n",
    "\n",
    "legend.Draw(\"same\")\n",
    "\n",
    "canvas.SaveAs(\"rej.pdf\")\n",
    "\n",
    "file.Close()\n",
    "canvas.Close()"
   ]
  },
  {
   "cell_type": "code",
   "execution_count": null,
   "metadata": {},
   "outputs": [],
   "source": [
    "fig, (ax1) = plt.subplots(nrows=1)\n",
    "import math\n",
    "#print(pt_pred[pt_pred['Y']==0]['Y_pred'])\n",
    "#print(pt_pred[pt_pred['Y']==1]['Y_pred'])\n",
    "#for i in range(0,2):\n",
    "  #  print(i)1\n",
    "    #ratio[i]=pt_pred[pt_pred['Y']==i]['weight'].sum()\n",
    "    #ratio[i]=1pt_pred['Y_pred']#\n",
    "pt_pred['dl_score']=pt_pred['Y_pred']#np.log(pt_pred['Y_pred']/(1-pt_pred['Y_pred']))#\n",
    "\n",
    "#print (pt_pred)\n",
    "#print (dl)\n",
    "#pt_pred['dl_score']=pt_pred['dl_score']/(pt_pred['dl_score'].max(axis=0)-pt_pred['dl_score'].min(axis=0))\n",
    "#pt_pred['dl_score']=pt_pred['Y_pred']\n",
    "ax1.hist(pt_pred[pt_pred['Y']==0]['dl_score'],100,weights=pt_pred[pt_pred['Y']==0]['weight'], label='signal Higgs bb',color='r', normed=1)\n",
    "ax1.hist(pt_pred[pt_pred['Y']==1]['dl_score'],100,weights=pt_pred[pt_pred['Y']==1]['weight'],  label='bkg non-Higgs bb',color='b', normed=1)\n",
    "#ax1.hist(pt_pred[pt_pred['Y']==0]['dl_score'],200,weights=pt_pred[pt_pred['Y']==0]['weight'], histtype='step', label='signal Higgs bb',color='r', normed=1)\n",
    "#ax1.hist(pt_pred[pt_pred['Y']==1]['dl_score'],200,weights=pt_pred[pt_pred['Y']==1]['weight'], histtype='step', label='bkg non-Higgs bb',color='b', normed=1)\n",
    "ax1.legend()\n",
    "plt.xlabel('DL1 score')\n",
    "\n",
    "\n",
    "      \n",
    "fig.savefig(\"DL_score.pdf\")\n",
    "#ax1.set_xlim(-1,1)\n",
    "#ax1.set_yscale('log')\n",
    "fig, (ax2, ax3, ax4) = plt.subplots(nrows=3)\n",
    "ax2.hist(pt_pred_h[pt_pred_h['Y']==0]['Y_pred'],200,weights= pt_pred_h[pt_pred_h['Y']==0]['weight'],label='pt:[300,500]GeV',color='r', normed=1)\n",
    "ax3.hist(pt_pred_m[pt_pred_m['Y']==0]['Y_pred'],200,weights= pt_pred_m[pt_pred_m['Y']==0]['weight'],label='pt:[500,800]GeV',color='r',normed=1)\n",
    "ax4.hist(pt_pred_l[pt_pred_l['Y']==0]['Y_pred'],200,weights= pt_pred_l[pt_pred_l['Y']==0]['weight'],label='pt:[1200,2000]GeV', color='r',normed=1)\n",
    "ax2.hist(pt_pred_h[pt_pred_h['Y']==1]['Y_pred'],200,weights= pt_pred_h[pt_pred_h['Y']==1]['weight'],label='bkg pt:[300,500]GeV',color='b', normed=1)\n",
    "ax3.hist(pt_pred_m[pt_pred_m['Y']==1]['Y_pred'],200,weights= pt_pred_m[pt_pred_m['Y']==1]['weight'],label='bkg pt:[500,800]GeV',color='b', normed=1)\n",
    "ax4.hist(pt_pred_l[pt_pred_l['Y']==1]['Y_pred'],200,weights= pt_pred_l[pt_pred_l['Y']==1]['weight'],label='bkg pt:[1200,2000]GeV',color='b', normed=1)\n",
    "#ax2.set_xlim(-1,1)\n",
    "#ax3.set_xlim(-1,1)\n",
    "#ax4.set_xlim(-1,1)\n",
    "\n",
    "ax2.legend()\n",
    "ax3.legend()\n",
    "ax4.legend()\n",
    "#plt.yscale('log')\n",
    "plt.legend()\n",
    "plt.xlabel('DL1 score')\n",
    "\n",
    "plt.show()\n",
    "\n",
    "      \n",
    "fig.savefig(\"DL_score_pt.pdf\")\n",
    "#plt.hist(Y_pred[:,0],200,histtype='step')\n",
    "plt.close\n"
   ]
  },
  {
   "cell_type": "code",
   "execution_count": null,
   "metadata": {},
   "outputs": [],
   "source": [
    "from sklearn import metrics\n",
    "#print(np.shape(mine))\n",
    "#print(np.shape(mine_bkg))\n",
    "#print(Y_pred[0,:])\n",
    "fig, ax1 = plt.subplots(nrows=1)\n",
    "\n",
    "#dl=(df0['Y0']<0.958226).astype(int)\n",
    "roc_dl=metrics.accuracy_score(Y, classes)\n",
    "\n",
    "#x=mv2c['single_b_mv2']\n",
    "#class_mv2=(df0['single_b_mv2']<cut_single).astype(int)\n",
    "#class_mv2_d=(df0['double_b_mv2']<cut_double).astype(int)\n",
    "\n",
    "\n",
    "#np.where(x>0.83)\n",
    "#print(x)\n",
    "#y=x.astype(int)\n",
    "    \n",
    "#print(y)\n",
    "#roc_mv= metrics.accuracy_score(Y,  class_mv2)\n",
    "#roc_mv_d= metrics.accuracy_score(Y, class_mv2_d)\n",
    "\n",
    "fpr, tpr, thresholds = metrics.roc_curve(df0['Y'],df0['Y0'],pos_label=0,sample_weight=df0['weight'])\n",
    "#plt.show()\n",
    "#print (tpr)\n",
    "plt.plot(fpr,tpr,'r',label='DL score: %0.2f' % roc_dl)\n",
    "\n",
    "#mv_class=((df0['double_b_mv2']>0.64))\n",
    "#mv_class=((df0['_b_mv2']>0.64))\n",
    "#print (fpr1,tpr1, thresholds)\n",
    "#print(np.shape(Y))\n",
    "fpr1, tpr1, thresholds1 = metrics.roc_curve(Y, df0['double_b_mv2'], pos_label=0,sample_weight=df0['weight'])\n",
    "\n",
    "plt.plot(fpr1,tpr1,'b', label='baseline double b-subjet')\n",
    "fpr10, tpr10, thresholds10 = metrics.roc_curve(Y,df0['single_b_mv2'], pos_label=0,sample_weight=df0['weight'])\n",
    "\n",
    "plt.plot(fpr10,tpr10,'g', label='baseline single b-subjet')\n",
    "\n",
    "#fpr3, tpr3, thresholds3 = metrics.roc_curve(Y1,Y_pred1[:,0],pos_label=0,sample_weight=weight1)\n",
    "#plt.plot(fpr3,tpr3,'y', label='DL Training(5 classes)')\n",
    "plt.legend(bbox_to_anchor=(0.9,0.3),fontsize=15)\n",
    "#plt.xlabel('Higgs bb tagging efficiency')\n",
    "#plt.ylabel('non-bb rejection')\n",
    "plt.xlabel('FPF')\n",
    "plt.title('ROC curve')\n",
    "plt.ylabel('TPF')\n",
    "plt.show() \n",
    "#print (weight)\n",
    "# Print AUC\n",
    "#auc = np.trapz(tpr,fpr)\n",
    "fig.savefig(\"ROC.pdf\")\n",
    "\n"
   ]
  },
  {
   "cell_type": "code",
   "execution_count": null,
   "metadata": {},
   "outputs": [],
   "source": [
    "#print(((pt_pred['Y']==0)&(pt_pred['classes']==0)))\n",
    "#pt_pred\n",
    "fig, ax1 = plt.subplots(nrows=1)\n",
    "\n",
    "\n",
    "#pt_pred=pt_pred[(pt_pred['jet_pt']<2000)&(pt_pred['jet_pt']>0)]\n",
    "#pt_pred1=pt_pred1[(pt_pred1['jet_pt']<2000)&(pt_pred1['jet_pt']>0)]\n",
    "sig_ind=(pt_pred['Y']==0)\n",
    "bkg_ind=(pt_pred['Y']==1)\n",
    "#sig_ind1=(pt_pred1['Y']==0)\n",
    "#bkg_ind1=(pt_pred1['Y']!=1)\n",
    "#print(pt_pred)\n",
    "#print (sig_ind, bkg_ind)\n",
    "\n",
    "\n",
    "\n",
    "sig2,_=np.histogram(pt_pred[pt_pred['Y']==0]['double_b_mv2']/2,5000)\n",
    "#weight_sig,_=np.histogram(pt_pred['weight'][sig_ind],5000)\n",
    "#print(np.shape(sig),np.shape(weight_sig))\n",
    "bkg2,_=np.histogram(pt_pred[pt_pred['Y']==1]['double_b_mv2']/2,5000)\n",
    "#weight_bkg,_=np.histogram(pt_pred['weight'][bkg_ind],5000)\n",
    "#print(sig)\n",
    "sig_eff2=np.add.accumulate(sig2[::-1])/np.sum(sig_ind)\n",
    "bkg_rej2=np.add.accumulate(bkg2[::-1])/np.sum(bkg_ind)\n",
    "\n",
    "\n",
    "sig21,_=np.histogram(pt_pred[pt_pred['Y']==0]['single_b_mv2']/2,5000)\n",
    "#weight_sig,_=np.histogram(pt_pred['weight'][sig_ind],5000)\n",
    "#print(np.shape(sig),np.shape(weight_sig))\n",
    "bkg21,_=np.histogram(pt_pred[pt_pred['Y']==1]['single_b_mv2']/2,5000)\n",
    "#weight_bkg,_=np.histogram(pt_pred['weight'][bkg_ind],5000)\n",
    "#print(sig)\n",
    "sig_eff21=np.add.accumulate(sig21[::-1])/np.sum(sig_ind)\n",
    "bkg_rej21=np.add.accumulate(bkg21[::-1])/np.sum(bkg_ind)\n",
    "#print(pt_pred1)\n",
    "#sig1,_=np.histogram(pt_pred1[pt_pred1['Y']==0]['dl_score'],5000)\n",
    "#weight_sig1,_=np.histogram(pt_pred1['weight'][sig_ind1],5000)\n",
    "#bkg1,_=np.histogram(pt_pred1[pt_pred1['Y']==1]['dl_score'],5000)\n",
    "#weight_bkg1,_=np.histogram(pt_pred1['weight'][bkg_ind1],5000)\n",
    "\n",
    "#sig_eff1=np.add.accumulate(sig1[::-1])/np.sum(sig_ind1)\n",
    "#bkg_rej1=np.add.accumulate(bkg1[::-1])/np.sum(bkg_ind1)\n",
    "\n",
    "sig,_=np.histogram(pt_pred[pt_pred['Y']==0]['Y_pred'],5000)\n",
    "#weight_sig,_=np.histogram(pt_pred['weight'][sig_ind],5000)\n",
    "bkg,_=np.histogram(pt_pred[pt_pred['Y']==1]['Y_pred'],5000)\n",
    "#weight_bkg,_=np.histogram(pt_pred['weight'][bkg_ind],5000)\n",
    "sig_eff=np.add.accumulate(sig[::-1])/np.sum(sig_ind)\n",
    "bkg_rej=np.add.accumulate(bkg[::-1])/np.sum(bkg_ind)\n",
    "\n",
    "\n",
    "#plt.hist(sig_eff,100)\n",
    "plt.plot(sig_eff, 1/bkg_rej,'r',label='DL score')\n",
    "#plt.plot(sig_eff1,1/bkg_rej1,'r',label='DL1 5classes')\n",
    "plt.plot(sig_eff21, 1/bkg_rej21,'b',label='baseline single-b score')\n",
    "plt.plot(sig_eff2, 1/bkg_rej2,'g',label='baseline double_b score')\n",
    "plt.yscale('log')\n",
    "plt.legend(fontsize=15)\n",
    "\n",
    "plt.xlabel('Higgs bb tagging efficiency')\n",
    "plt.title('The dijet rejection vs Higgs bb tagging efficiency')\n",
    "plt.ylabel('Dijet rejection,(1/$\\epsilon_{dijet}$)')\n",
    "#plt.ylim(1,1e5)\n",
    "#plt.xlim(0,1)\n",
    "plt.show()\n",
    "fig.savefig(\"ROC_ATLAS.pdf\")"
   ]
  },
  {
   "cell_type": "code",
   "execution_count": null,
   "metadata": {},
   "outputs": [],
   "source": []
  },
  {
   "cell_type": "code",
   "execution_count": null,
   "metadata": {},
   "outputs": [],
   "source": [
    "import pandas as pd  \n",
    "import matplotlib.pyplot as plt \n",
    "import numpy as np\n",
    "print  (pd.show_versions())\n",
    "#file='hist__D_80_64_32_32_16_8_4_2relu_adam_clipn0_binary_crossentropybcujets_pTmax300GeV__b_reweighting_tensorflow__lr10_trainBS256_nE100_s12264_val10.h5'\n",
    "#file='/Users/elenavillhauer/h_bbar_DL/output_lowpileup_157_559pm/hist__D_80_64_32_32_16_8_4_2__BN_relu_adam_clipn0_binary_crossentropybcujets_pTmax300GeV__b_reweighting_tensorflow__lr10_trainBS128_nE500_s12264_val10.h5'\n",
    "file='/Users/elenavillhauer/h_bbar_DL/ines_doubleb_small_sample_test/hist__D_80_64_32_32_16_8_4_2relu_adam_clipn0_binary_crossentropybcujets_pTmax300GeV__b_reweighting_tensorflow__lr10_trainBS80_nE200_s12264_2018-09-10_val10.h5'\n",
    "#/Users/elenavillhauer/h_bbar_DL/lowpileup/hist__D_80_64_32_32_16_8_4_2__BN_relu_adam_clipn0_binary_crossentropybcujets_pTmax300GeV__b_reweighting_tensorflow__lr10_trainBS64_nE100_s12264_val10.h5'\n",
    "#hist__D_80_64_32_32_16_8_4_2__BN_relu_adam_clipn0_binary_crossentropybcujets_pTmax300GeV__b_reweighting_tensorflow__lr10_trainBS512_nE100_s12264_val10.h5'\n",
    "\n",
    "fig, ax1 = plt.subplots(nrows=1)\n",
    "train_loss=pd.read_hdf(file, key='history')['loss']\n",
    "val_loss=pd.read_hdf(file, key='history')['val_loss']\n",
    "train_acc=pd.read_hdf(file, key='history')['acc']\n",
    "val_acc=pd.read_hdf(file, key='history')['val_acc']\n",
    "#print(train_loss)\n",
    "plt.plot(np.linspace(0,len(train_loss),len(train_loss)),train_loss,label='Training Loss(Dropout(0.1))')\n",
    "plt.plot(np.linspace(0,len(val_loss),len(val_loss)),val_loss,label='Validation Loss)')\n",
    "plt.legend(fontsize=15)\n",
    "plt.xlabel('Numbers of epochs')\n",
    "plt.ylabel(\"Loss\")\n",
    "\n",
    "plt.show()\n",
    "fig.savefig(\"loss.pdf\")\n",
    "fig, ax1 = plt.subplots(nrows=1)\n",
    "plt.plot(np.linspace(0,len(train_acc),len(train_acc)),train_acc,label='Training Accuracy(Dropout(0.1))')\n",
    "plt.plot(np.linspace(0,len(val_acc),len(val_acc)),val_acc,label='Validation Accuracy)')\n",
    "plt.xlabel('Numbers of epochs')\n",
    "plt.ylabel(\"Accuracy\")\n",
    "#plt.show()\n",
    "plt.ylim(0.9,.97)\n",
    "plt.legend(fontsize=15)\n",
    "plt.show()\n",
    "fig.savefig(\"acc.pdf\")\n",
    "#file.close()\n",
    "\n"
   ]
  },
  {
   "cell_type": "code",
   "execution_count": null,
   "metadata": {
    "scrolled": true
   },
   "outputs": [],
   "source": [
    "import pandas as pd   \n",
    "#import wkhtmltoimage\n",
    "import numpy as np\n",
    "pd.set_option('precision', 2)\n",
    "file='/Users/juechen/Documents/course/research/double-bplots/mc_weight.txt'\n",
    "data = pd.read_csv(file, sep=\" \",header = None)\n",
    "data.columns = [\"Filter eff\", \"cross section\", \"mcwg(averaged)\", \"DAOD events #\", \"Entries with cut(jet-based)\"]\n",
    "data['estimated weight(with averaged mcwg)']=data[\"Filter eff\"]*data[\"cross section\"]*data[\"mcwg(averaged)\"]/data[\"DAOD events #\"]\n",
    "#data=data[[\"Filter eff\", \"cross section\", \"DAOD event\", \"Entries after all cut(jet-based)\"]]\n",
    "\n",
    "data.rename({0: \"JZ0W\", 1: \"JZ1W\",2: \"JZ2W\", 3: \"JZ3W\"})\n",
    "#print(np.array(data[\"cross section\"]))\n",
    "\n",
    "data.update(data.find(1.00))\n",
    "print(data)"
   ]
  },
  {
   "cell_type": "code",
   "execution_count": null,
   "metadata": {},
   "outputs": [],
   "source": [
    "import json\n",
    "from keras.models import  model_from_json\n",
    "import tensorflow\n",
    "import os\n",
    "json_file = open('/Users/juechen/Documents/course/research/double-bplots/KerasFiles/model.json', 'r')\n",
    "loaded_model_json = json_file.read()\n",
    "json_file.close()\n",
    "loaded_model = model_from_json( loaded_model_json)\n",
    "# load weights into new model\n",
    "loaded_model.load_weights(\"/Users/juechen/Documents/course/research/double-bplots/KerasFiles/model.h5\")\n",
    "print(\"Loaded model from disk\")"
   ]
  },
  {
   "cell_type": "code",
   "execution_count": null,
   "metadata": {
    "scrolled": false
   },
   "outputs": [],
   "source": [
    "a=np.random.randint(5, size=(3,4))\n",
    "b=np.random.randint(5, size=(3,4))\n",
    "#print(a)\n",
    "print(np.where(b==0))\n",
    "\n",
    "b=np.where(b ==0, 1, b)\n",
    "print(b)\n",
    "#print(np.sum(a,axis=0))\n",
    "#print(np.count_nonzero(b,axis=0))\n",
    "mean=np.divide(np.sum(a,axis=0),np.count_nonzero(b,axis=0))\n",
    "print(mean)\n",
    "pt=np.ones(len(a))\n",
    "pt.shape=(len(a),1)\n",
    "mean.shape=(len(a[0]),1)\n",
    "mean=pt*mean.T\n",
    "\n",
    "weight=np.divide(mean,b)\n",
    "\n",
    "print(mean)\n",
    "#weight[weight == inf] = 0\n",
    "\n",
    "print(weight)"
   ]
  },
  {
   "cell_type": "code",
   "execution_count": null,
   "metadata": {},
   "outputs": [],
   "source": []
  },
  {
   "cell_type": "code",
   "execution_count": null,
   "metadata": {},
   "outputs": [],
   "source": [
    "def find_nearest1D(array,value):                                                                                                                                                                                                                           \n",
    "     #check if value is below lowest or above higest bin edge,                                                                                                                                                                                             \n",
    "     highBin = array[-1]                                                                                                                                                                                                                                   \n",
    "     lowbin = array[0]                                                                                                                                                                                                                                     \n",
    "                                                                                                                                                                                                                                                           \n",
    "     if value >= highBin:                                                                                                                                                                                                                                  \n",
    "         return str(array[-2])+'_'+str(array[-1])                                                                                                                                                                                                          \n",
    "     if value < lowbin:                                                                                                                                                                                                                                    \n",
    "         return str(array[0])+'_'+str(array[1])                                                                                                                                                                                                            \n",
    "                                                                                                                                                                                                                                                           \n",
    "     idxLow = (np.abs(array[array <= value]-value)).argmin()                                                                                                                                                                                               \n",
    "     idxHigh = (np.abs(array[array > value]-value)).argmin()                                                                                                                                                                                               \n",
    "                                                                                                                                                                                                                                                           \n",
    "     return str(array[array <= value][idxLow])+'_'+str( array[array > value][idxHigh] )                                                                                                                                                                    \n",
    "                                                                                                                                                                                                                                                           \n",
    "                                                                                                                                                                                                                                                           \n",
    "def find2dBin(xval, yval, xbins, ybins):                                                                                                                                                                                                                   \n",
    "                                                                                                                                                                                                                                                           \n",
    "     xbinning = find_nearest1D(xbins,xval)                                                                                                                                                                                                                 \n",
    "     ybinning = find_nearest1D(ybins,yval)                                                                                                                                                                                                                 \n",
    "                                                                                                                                                                                                                                                           \n",
    "     return xbinning+'_'+ybinning                                                                                                                                                                                                                          \n",
    "                                                                                                                                                                                                                                                           \n",
    "def makeBinValueDict(array,x_edges,y_edges):                                                                                                                                                                                                               \n",
    "                                                                                                                                                                                                                                                           \n",
    "     binvaldict = {}                                                                                                                                                                                                                                       \n",
    "                                                                                                                                                                                                                                                           \n",
    "     for xi in range(len(x_edges)-1):                                                                                                                                                                                                                      \n",
    "         for yi in range(len(y_edges)-1):                                                                                                                                                                                                                  \n",
    "             binname = str(x_edges[xi])+'_'+str(x_edges[xi+1])+'_'+str(y_edges[yi])+'_'+str(y_edges[yi+1])                                                                                                                                                 \n",
    "             binval = array[xi][yi]                                                                                                                                                                                                                        \n",
    "             if np.isnan(binval):                                                                                                                                                                                                                          \n",
    "                 binval = 1.0                                                                                                                                                                                                                              \n",
    "             binvaldict[binname]=binval                                                                                                                                                                                                                    \n",
    "     return binvaldict                                                                                                                                                                                                                                     \n",
    "                           "
   ]
  },
  {
   "cell_type": "code",
   "execution_count": null,
   "metadata": {},
   "outputs": [],
   "source": [
    "import numpy as np\n",
    "\n",
    "import matplotlib.pyplot as plt\n",
    "import matplotlib as mpl\n",
    "ptarray_sig = np.random.normal(0, 1, 100000)\n",
    "etaarray_sig= np.random.normal(0, 1, 100000)\n",
    "ptarray_bkg = np.random.normal(0, 2, 100000)\n",
    "etaarray_bkg= np.random.normal(0, 2, 100000)\n",
    "ptbins = np.linspace(ptarray_sig.min(),ptarray_sig.max(),50)                                                                                                                                                                                       \n",
    "etabins = np.linspace(etaarray_sig.min(),etaarray_sig.max(),2)                                                                                                                                                                                    \n",
    "#print(ptbins)         \n",
    "fig=plt.subplots(nrows=2)\n",
    "\n",
    "plt.hist(ptarray_sig,50)\n",
    "plt.show()\n",
    "\n",
    "plt.hist(etaarray_sig,50)\n",
    "plt.show()\n",
    "plt.hist(ptarray_bkg,50)\n",
    "plt.show()\n",
    "\n",
    "plt.hist(etaarray_bkg,50)\n",
    "plt.show()\n",
    "Hsig, xedges, yedges = np.histogram2d(ptarray_sig, etaarray_sig, bins=(ptbins, etabins))#, weights=weight_sig)                                                                                                                                         \n",
    "Hbkg, xedges, yedges = np.histogram2d(ptarray_bkg, etaarray_bkg, bins=(ptbins, etabins))#, weights=weight_bkg)  \n",
    "#print(xedges, yedges)\n",
    "\n",
    "#plt.show()\n",
    "a = Hsig                                                                                                                                                                                                                                               \n",
    "b= Hbkg                                                                                                                                                                                                                                                \n",
    "mean=np.divide(np.sum(a,axis=0),np.count_nonzero(b,axis=0))      \n",
    "pt=np.ones(len(a))                         \n",
    "pt.shape=(len(a),1)                        \n",
    "mean.shape=(len(a[0]),1)                   \n",
    "mean=pt*mean.T    \n",
    "b[b==0]=1\n",
    "weight=np.divide(mean,b)                                                                                                                                                                                                                               \n",
    "#from numpy import inf                                                                                                                                                                                                                                     \n",
    "#weight[weight == ] = 0                                                                                                                                                                                                                                 \n",
    "weightHist=weight      \n",
    "#print(weightHist)\n",
    "weightDict = makeBinValueDict(weightHist,xedges, yedges)     \n",
    "#print (weightDict )                                                                                                                                                                                                                                                                                                                                                                                                                                                                                                      \n",
    "weightarray = []                                                                                                                                                                                                                                         \n",
    "#loop over background array    \n",
    "#print(len(ptarray_bkg))\n",
    "for i in range(len(ptarray_bkg)):                                                                                                                                                                                                                                          \n",
    "    xval = ptarray_bkg[i]                                                                                                                                                                                                                                            \n",
    "    yval = etaarray_bkg[i]  \n",
    "    #print(xval, yval)\n",
    "    #print(weightDict[find2dBin(xval,yval,xedges,yedges)])\n",
    "    weightarray.append( weightDict[find2dBin(xval,yval,xedges,yedges)] )   \n",
    "\n",
    "\n",
    "#print (weightarray  ) "
   ]
  },
  {
   "cell_type": "code",
   "execution_count": null,
   "metadata": {},
   "outputs": [],
   "source": [
    "fig=plt.subplots(nrows=2)\n",
    "\n",
    "plt.hist(ptarray_bkg,50,weights=weightarray)\n",
    "plt.hist(ptarray_sig,50,weights=weightarray, color='r')\n",
    "plt.show()\n",
    "\n",
    "plt.hist(etaarray_bkg,50,weights=weightarray)\n",
    "plt.show()"
   ]
  },
  {
   "cell_type": "code",
   "execution_count": null,
   "metadata": {},
   "outputs": [],
   "source": [
    "import numpy as np\n",
    "eta_bins = [0., 0.5, 0.75, 1., 2]                                                                                                                                                                                  \n",
    "eta_bins = [-i for i in eta_bins]+eta_bins[1:5]  \n",
    "print(np.sort(eta_bins))\n",
    "\n",
    "pt_bins=np.concatenate([np.arange(250,1250,50),np.arange(1250,2200,750)])\n",
    "print(np.shape(pt_bins))\n",
    "print(pt_bins)\n",
    "\n",
    "a=[1,2,12]\n",
    "print(np.shape(a))\n",
    "a.shape=(3,1)"
   ]
  },
  {
   "cell_type": "code",
   "execution_count": null,
   "metadata": {},
   "outputs": [],
   "source": []
  }
 ],
 "metadata": {
  "anaconda-cloud": {},
  "kernelspec": {
   "display_name": "Python 3",
   "language": "python",
   "name": "python3"
  },
  "language_info": {
   "codemirror_mode": {
    "name": "ipython",
    "version": 2
   },
   "file_extension": ".py",
   "mimetype": "text/x-python",
   "name": "python",
   "nbconvert_exporter": "python",
   "pygments_lexer": "ipython2",
   "version": "2.7.10"
  }
 },
 "nbformat": 4,
 "nbformat_minor": 1
}
